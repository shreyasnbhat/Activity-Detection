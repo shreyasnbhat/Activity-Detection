{
 "cells": [
  {
   "cell_type": "code",
   "execution_count": 60,
   "metadata": {},
   "outputs": [],
   "source": [
    "import matplotlib.pyplot as plt\n",
    "import cv2\n",
    "import numpy as np\n",
    "import os\n",
    "from keras import backend as K\n",
    "from keras.layers import Conv2D, Dropout, LSTM, BatchNormalization, Input,Activation, MaxPool2D, Flatten, Dense,TimeDistributed\n",
    "from keras.models import Model, load_model\n",
    "from keras.callbacks import ModelCheckpoint, TensorBoard\n",
    "from keras.layers.convolutional import ZeroPadding2D\n",
    "from keras import metrics\n",
    "import h5py\n",
    "from sklearn.metrics import confusion_matrix"
   ]
  },
  {
   "cell_type": "code",
   "execution_count": 2,
   "metadata": {
    "scrolled": true
   },
   "outputs": [
    {
     "data": {
      "text/plain": [
       "[['006',\n",
       "  '017',\n",
       "  '003',\n",
       "  '016',\n",
       "  '009',\n",
       "  '013',\n",
       "  '005',\n",
       "  '012',\n",
       "  '010',\n",
       "  '015',\n",
       "  '014',\n",
       "  '007',\n",
       "  '004',\n",
       "  '011',\n",
       "  '002',\n",
       "  '001'],\n",
       " ['006', '003', '009', '005', '010', '007', '004', '002', '008', '001'],\n",
       " ['006', '009', '005', '010', '007', '004', '002', '008', '001'],\n",
       " ['006', '003', '009', '005', '010', '007', '004', '002', '008', '001'],\n",
       " ['006',\n",
       "  '017',\n",
       "  '003',\n",
       "  '016',\n",
       "  '009',\n",
       "  '013',\n",
       "  '005',\n",
       "  '012',\n",
       "  '010',\n",
       "  '015',\n",
       "  '014',\n",
       "  '007',\n",
       "  '004',\n",
       "  '011',\n",
       "  '002',\n",
       "  '008',\n",
       "  '001'],\n",
       " ['003', '005', '004', '002', '001'],\n",
       " ['006', '003', '009', '005', '010', '007', '004', '011', '002', '008', '001'],\n",
       " ['006',\n",
       "  '017',\n",
       "  '003',\n",
       "  '016',\n",
       "  '009',\n",
       "  '013',\n",
       "  '005',\n",
       "  '012',\n",
       "  '010',\n",
       "  '015',\n",
       "  '014',\n",
       "  '007',\n",
       "  '019',\n",
       "  '004',\n",
       "  '011',\n",
       "  '018',\n",
       "  '002',\n",
       "  '008',\n",
       "  '001'],\n",
       " ['006',\n",
       "  '003',\n",
       "  '009',\n",
       "  '013',\n",
       "  '005',\n",
       "  '012',\n",
       "  '010',\n",
       "  '014',\n",
       "  '007',\n",
       "  '004',\n",
       "  '011',\n",
       "  '002',\n",
       "  '008',\n",
       "  '001']]"
      ]
     },
     "execution_count": 2,
     "metadata": {},
     "output_type": "execute_result"
    }
   ],
   "source": [
    "VIDEOS_DIR = '../Videos/'\n",
    "IMAGES_DIR = '../Images/'\n",
    "classes = []\n",
    "class_to_index = {}\n",
    "videos = []\n",
    "\n",
    "classes = ['Kicking', 'Riding-Horse', 'Running', 'SkateBoarding', 'Swing-Bench', 'Lifting', 'Swing-Side', 'Walking', 'Golf-Swing']\n",
    "\n",
    "\n",
    "for i in range(len(classes)):\n",
    "    class_to_index[classes[i]] = i\n",
    "class_to_index\n",
    "\n",
    "for x in classes:\n",
    "    videos.append(list(os.listdir(VIDEOS_DIR+x+'/')))\n",
    "videos"
   ]
  },
  {
   "cell_type": "markdown",
   "metadata": {},
   "source": [
    "## Function Block"
   ]
  },
  {
   "cell_type": "code",
   "execution_count": 128,
   "metadata": {},
   "outputs": [],
   "source": [
    "def permute(X,Y):\n",
    "    train_size = X.shape[0]\n",
    "    permutation_train = np.random.permutation(train_size)\n",
    "    X = X[permutation_train]\n",
    "    Y = Y[permutation_train]\n",
    "    return X,Y\n",
    "\n",
    "def load_image(path,image_size):\n",
    "    image = cv2.cvtColor(cv2.imread(path), cv2.COLOR_BGR2RGB)\n",
    "    image = cv2.resize(image, image_size)\n",
    "    return image\n",
    "\n",
    "def convert_to_one_hot(Y, C):\n",
    "    Y = np.eye(C)[Y.reshape(-1)]\n",
    "    return Y\n",
    "\n",
    "def pad(X_train_images_class,max_len):\n",
    "    length = len(X_train_images_class)\n",
    "    pad_arr = np.zeros((X_train_images_class.shape[1:4]),dtype=np.uint8)\n",
    "    X_train_images_class = list(X_train_images_class)\n",
    "    for i in range(max_len-length):\n",
    "        X_train_images_class.append(pad_arr)\n",
    "    return np.array(X_train_images_class,dtype=np.uint8)\n",
    "\n",
    "def predict(model,X,verbose=True):\n",
    "    pred = model.predict(X)[0]\n",
    "    max_pred = [np.argmax(i) for i in pred]\n",
    "    if verbose:\n",
    "        print(\"Max Preds time\", max_pred)\n",
    "    counts = np.bincount(max_pred)\n",
    "    class_pred = np.argmax(counts)\n",
    "    return class_pred\n",
    "\n",
    "def evaluate(model, X_test,Y_test,verbose = True):\n",
    "    count = 0\n",
    "    preds = []\n",
    "    for i in range(len(X_test)):\n",
    "        class_pred = predict(model,X_test[i],verbose=verbose)\n",
    "        preds.append(class_pred)\n",
    "        actual = Y_test[i]\n",
    "        if verbose:\n",
    "            print(\"Pred\",classes[class_pred],\"Actual\",classes[actual])\n",
    "            print()\n",
    "        if class_pred == actual:\n",
    "            count += 1\n",
    "    if verbose:\n",
    "        print(\"Confusion Matrix\")\n",
    "        print(confusion_matrix(Y_test,preds))\n",
    "    return float(count)/float(len(Y_test)) * 100.0"
   ]
  },
  {
   "cell_type": "code",
   "execution_count": 4,
   "metadata": {},
   "outputs": [],
   "source": [
    "def build_dataset_end_to_end(image_size, max_len = 40, stride = 10):\n",
    "    \n",
    "    X_train_images = []\n",
    "    Y_train_images = []\n",
    "    \n",
    "    X_test_images = []\n",
    "    Y_test_images = []\n",
    "    \n",
    "    test_videos = [['004', '011', '007'], ['006', '010'], ['007', '002'], \\\n",
    "                   ['003','001'], ['006', '012', '009'], ['004', '005'], ['008','002'], \\\n",
    "                   ['004', '012', '002'], ['001', '013', '006']]\n",
    "    \n",
    "    for i in range(len(classes)):\n",
    "        cls = classes[i]\n",
    "        test = test_videos[i] \n",
    "        for j in range(len(videos[i])):\n",
    "            vid = videos[i][j]\n",
    "            video_r = VIDEOS_DIR+cls+'/'+ vid +'/'\n",
    "            image_r = IMAGES_DIR+cls+'/'+ vid +'/'\n",
    "            filelist = sorted(list(os.listdir(image_r)))\n",
    "            X_train_images_class = []\n",
    "            for file in filelist:\n",
    "                if file.endswith(\".png\"):\n",
    "                    image = load_image(image_r+file,image_size)\n",
    "                    X_train_images_class.append(image)\n",
    "            X_train_images_class = np.array(X_train_images_class)        \n",
    "            X_test_frames = []                                \n",
    "            for k in range(0,len(X_train_images_class),stride):\n",
    "                lower = k\n",
    "                upper = min(len(X_train_images_class),k+max_len)\n",
    "                if upper == len(X_train_images_class):\n",
    "                    if vid not in test:                \n",
    "                        X_train_images.append(pad(X_train_images_class[lower:upper],max_len))\n",
    "                        Y_train_images.append(i)\n",
    "                    else:\n",
    "                        print(\"Test Vid\" ,vid)\n",
    "                        X_test_frames.append(pad(X_train_images_class[lower:upper],max_len))\n",
    "                        X_test_images.append(np.array(X_test_frames))        \n",
    "                        Y_test_images.append(i)\n",
    "                    #print(\"Padded frames\" , lower , \"to\" , upper)\n",
    "                    break\n",
    "                else:\n",
    "                    if vid not in test:                \n",
    "                        X_train_images.append(X_train_images_class[lower:upper])\n",
    "                        Y_train_images.append(i)\n",
    "                    else:\n",
    "                        print(\"Test Vid\" ,vid)\n",
    "                        X_test_frames.append(X_train_images_class[lower:upper])\n",
    "                    #print(\"Added frames\" , lower , \"to\" , upper)\n",
    "                    \n",
    "            print(\"Processed\",videos[i][j],\"of\",\"class\",classes[i])\n",
    "    return np.array(X_train_images,dtype=np.uint8),np.array(Y_train_images,dtype=np.uint8), np.array(X_test_images), np.array(Y_test_images)"
   ]
  },
  {
   "cell_type": "code",
   "execution_count": 5,
   "metadata": {
    "scrolled": true
   },
   "outputs": [],
   "source": [
    "X_train = None\n",
    "X_test = None\n",
    "Y_train = None\n",
    "Y_test = None\n",
    "try:\n",
    "    X_train = np.load('../Numpy/End2End/X_train.npy')\n",
    "    Y_train = np.load('../Numpy/End2End/Y_train.npy')\n",
    "    X_test = np.load('../Numpy/End2End/X_test.npy')\n",
    "    Y_test = np.load('../Numpy/End2End/Y_test.npy')\n",
    "except FileNotFoundError:\n",
    "    X_train, Y_train, X_test, Y_test = build_dataset_end_to_end((172, 172))\n",
    "    np.save('../Numpy/End2End/X_train.npy', X_train)\n",
    "    np.save('../Numpy/End2End/Y_train.npy', Y_train)\n",
    "    np.save('../Numpy/End2End/X_test.npy', X_test)\n",
    "    np.save('../Numpy/End2End/Y_test.npy', Y_test)"
   ]
  },
  {
   "cell_type": "code",
   "execution_count": 6,
   "metadata": {},
   "outputs": [
    {
     "data": {
      "text/plain": [
       "((340, 40, 172, 172, 3), (22,), (340,), (22,))"
      ]
     },
     "execution_count": 6,
     "metadata": {},
     "output_type": "execute_result"
    }
   ],
   "source": [
    "X_train.shape, X_test.shape,Y_train.shape, Y_test.shape"
   ]
  },
  {
   "cell_type": "code",
   "execution_count": 43,
   "metadata": {},
   "outputs": [
    {
     "name": "stdout",
     "output_type": "stream",
     "text": [
      "Walking\n"
     ]
    },
    {
     "data": {
      "image/png": "[encoded data removed]",
      "text/plain": [
       "<matplotlib.figure.Figure at 0x7ff324d8edd8>"
      ]
     },
     "metadata": {},
     "output_type": "display_data"
    }
   ],
   "source": [
    "x = np.random.randint(340)\n",
    "plt.imshow(X_train[x, 0])\n",
    "print(classes[Y_train[x]])"
   ]
  },
  {
   "cell_type": "code",
   "execution_count": 32,
   "metadata": {},
   "outputs": [],
   "source": [
    "def end_to_end(input_shape):\n",
    "    X_input = Input(input_shape)\n",
    "    X = TimeDistributed(BatchNormalization(name = 'BatchNorm_1'))(X_input)\n",
    "    X = TimeDistributed(Conv2D(16, (7, 7), strides = (4, 4), activation='relu', name=\"Conv_1a\", padding=\"same\"))(X)\n",
    "    X = TimeDistributed(Conv2D(32, (3, 3), activation='relu', name=\"Conv_1b\", padding=\"same\"))(X)\n",
    "    X = TimeDistributed(MaxPool2D((2, 2), name = \"Pool_1\"))(X)\n",
    "    X = TimeDistributed(Dropout(0.2))(X)\n",
    "    \n",
    "    X = TimeDistributed(Conv2D(64, (3, 3), name =\"Conv_2a\", activation='relu', padding = \"same\"))(X)\n",
    "    X = TimeDistributed(MaxPool2D((2, 2), name = \"Pool_2\"))(X)\n",
    "    X = TimeDistributed(Dropout(0.2))(X)\n",
    "    X = TimeDistributed(Conv2D(32,(3,3), name='Conv_3a', activation='relu'))(X)\n",
    "    X = TimeDistributed(MaxPool2D((2, 2), name = \"Pool_3\"))(X)\n",
    "    X = TimeDistributed(Dropout(0.2))(X)\n",
    "\n",
    "    X = TimeDistributed(Conv2D(8,(1,1), activation='relu', name='Conv_1x1'))(X)\n",
    "    X = TimeDistributed(Flatten())(X)\n",
    "    X = TimeDistributed(Dropout(0.3))(X)\n",
    "    Y = TimeDistributed(Dense(9,activation='softmax',name='final'),name='final_1')(X)\n",
    "    \n",
    "    X = LSTM(48, return_sequences=False,dropout=0.3)(X)\n",
    "    #X = LSTM(32, return_sequences=False)(X)\n",
    "    X = Dense(9, activation='softmax',name='final_2')(X)\n",
    "\n",
    "    return Model(X_input, outputs=[X, Y])"
   ]
  },
  {
   "cell_type": "code",
   "execution_count": 33,
   "metadata": {},
   "outputs": [
    {
     "name": "stdout",
     "output_type": "stream",
     "text": [
      "__________________________________________________________________________________________________\n",
      "Layer (type)                    Output Shape         Param #     Connected to                     \n",
      "==================================================================================================\n",
      "input_2 (InputLayer)            (None, 40, 172, 172, 0                                            \n",
      "__________________________________________________________________________________________________\n",
      "time_distributed_15 (TimeDistri (None, 40, 172, 172, 12          input_2[0][0]                    \n",
      "__________________________________________________________________________________________________\n",
      "time_distributed_16 (TimeDistri (None, 40, 43, 43, 1 2368        time_distributed_15[0][0]        \n",
      "__________________________________________________________________________________________________\n",
      "time_distributed_17 (TimeDistri (None, 40, 43, 43, 3 4640        time_distributed_16[0][0]        \n",
      "__________________________________________________________________________________________________\n",
      "time_distributed_18 (TimeDistri (None, 40, 21, 21, 3 0           time_distributed_17[0][0]        \n",
      "__________________________________________________________________________________________________\n",
      "time_distributed_19 (TimeDistri (None, 40, 21, 21, 3 0           time_distributed_18[0][0]        \n",
      "__________________________________________________________________________________________________\n",
      "time_distributed_20 (TimeDistri (None, 40, 21, 21, 6 18496       time_distributed_19[0][0]        \n",
      "__________________________________________________________________________________________________\n",
      "time_distributed_21 (TimeDistri (None, 40, 10, 10, 6 0           time_distributed_20[0][0]        \n",
      "__________________________________________________________________________________________________\n",
      "time_distributed_22 (TimeDistri (None, 40, 10, 10, 6 0           time_distributed_21[0][0]        \n",
      "__________________________________________________________________________________________________\n",
      "time_distributed_23 (TimeDistri (None, 40, 8, 8, 32) 18464       time_distributed_22[0][0]        \n",
      "__________________________________________________________________________________________________\n",
      "time_distributed_24 (TimeDistri (None, 40, 4, 4, 32) 0           time_distributed_23[0][0]        \n",
      "__________________________________________________________________________________________________\n",
      "time_distributed_25 (TimeDistri (None, 40, 4, 4, 32) 0           time_distributed_24[0][0]        \n",
      "__________________________________________________________________________________________________\n",
      "time_distributed_26 (TimeDistri (None, 40, 4, 4, 8)  264         time_distributed_25[0][0]        \n",
      "__________________________________________________________________________________________________\n",
      "time_distributed_27 (TimeDistri (None, 40, 128)      0           time_distributed_26[0][0]        \n",
      "__________________________________________________________________________________________________\n",
      "time_distributed_28 (TimeDistri (None, 40, 128)      0           time_distributed_27[0][0]        \n",
      "__________________________________________________________________________________________________\n",
      "lstm_3 (LSTM)                   (None, 48)           33984       time_distributed_28[0][0]        \n",
      "__________________________________________________________________________________________________\n",
      "final_2 (Dense)                 (None, 9)            441         lstm_3[0][0]                     \n",
      "__________________________________________________________________________________________________\n",
      "final_1 (TimeDistributed)       (None, 40, 9)        1161        time_distributed_28[0][0]        \n",
      "==================================================================================================\n",
      "Total params: 79,830\n",
      "Trainable params: 79,824\n",
      "Non-trainable params: 6\n",
      "__________________________________________________________________________________________________\n",
      "None\n"
     ]
    }
   ],
   "source": [
    "e2e = end_to_end((40, 172,172, 3))\n",
    "print(e2e.summary())"
   ]
  },
  {
   "cell_type": "code",
   "execution_count": 34,
   "metadata": {},
   "outputs": [],
   "source": [
    "e2e.compile(loss=['categorical_crossentropy', 'categorical_crossentropy'], loss_weights=[1, 0.5],\n",
    "        metrics=['accuracy'],\n",
    "        optimizer='adam')"
   ]
  },
  {
   "cell_type": "code",
   "execution_count": 44,
   "metadata": {},
   "outputs": [],
   "source": [
    "X_train, Y_train = permute(X_train, Y_train)"
   ]
  },
  {
   "cell_type": "code",
   "execution_count": 45,
   "metadata": {},
   "outputs": [
    {
     "data": {
      "text/plain": [
       "(340, 40, 172, 172, 3)"
      ]
     },
     "execution_count": 45,
     "metadata": {},
     "output_type": "execute_result"
    }
   ],
   "source": [
    "X_train.shape"
   ]
  },
  {
   "cell_type": "code",
   "execution_count": 46,
   "metadata": {},
   "outputs": [],
   "source": [
    "Y_train = convert_to_one_hot(Y_train, 9)\n"
   ]
  },
  {
   "cell_type": "code",
   "execution_count": 47,
   "metadata": {},
   "outputs": [
    {
     "data": {
      "text/plain": [
       "(340, 9)"
      ]
     },
     "execution_count": 47,
     "metadata": {},
     "output_type": "execute_result"
    }
   ],
   "source": [
    "Y_train.shape"
   ]
  },
  {
   "cell_type": "code",
   "execution_count": 48,
   "metadata": {},
   "outputs": [],
   "source": [
    "Y_train2 = np.tile(Y_train, (40, 1, 1))"
   ]
  },
  {
   "cell_type": "code",
   "execution_count": 49,
   "metadata": {},
   "outputs": [],
   "source": [
    "Y_train2 = Y_train2.transpose(1, 0, 2)\n"
   ]
  },
  {
   "cell_type": "code",
   "execution_count": 50,
   "metadata": {},
   "outputs": [
    {
     "data": {
      "text/plain": [
       "(340, 40, 9)"
      ]
     },
     "execution_count": 50,
     "metadata": {},
     "output_type": "execute_result"
    }
   ],
   "source": [
    "Y_train2.shape"
   ]
  },
  {
   "cell_type": "markdown",
   "metadata": {},
   "source": [
    "#### Generator Testing"
   ]
  },
  {
   "cell_type": "code",
   "execution_count": 16,
   "metadata": {},
   "outputs": [],
   "source": [
    "def generate_batch_data(batch_size):\n",
    "    X_train = np.load('../Numpy/End2End/X_train.npy')\n",
    "    Y_train = np.load('../Numpy/End2End/Y_train.npy')\n",
    "    \n",
    "    Y_train = convert_to_one_hot(Y_train,9)\n",
    "    \n",
    "    X_train, Y_train = permute(X_train, Y_train)\n",
    "    \n",
    "    Y_train2 = np.tile(Y_train, (40, 1, 1))\n",
    "    Y_train2 = Y_train2.transpose(1, 0, 2)\n",
    "\n",
    "    samples = X_train.shape[0]\n",
    "    while 1:\n",
    "        i = 0\n",
    "        for i in range(samples):\n",
    "            X_batch = X_train[i:i+batch_size]\n",
    "            Y_batch = Y_train[i:i+batch_size]\n",
    "            Y_batch_2 = Y_train2[i:i+batch_size]\n",
    "            yield X_batch,{'final_1' : Y_batch_2, 'final_2' : Y_batch}"
   ]
  },
  {
   "cell_type": "code",
   "execution_count": 17,
   "metadata": {},
   "outputs": [],
   "source": [
    "import math\n",
    "X_train = np.load('../Numpy/End2End/X_train.npy')\n",
    "steps = math.ceil(X_train.shape[0]/10)"
   ]
  },
  {
   "cell_type": "code",
   "execution_count": 42,
   "metadata": {},
   "outputs": [
    {
     "name": "stderr",
     "output_type": "stream",
     "text": [
      "/home/shreyas/miniconda3/envs/tensorflow/lib/python3.6/site-packages/keras/engine/training.py:2087: UserWarning: Using a generator with `use_multiprocessing=True` and multiple workers may duplicate your data. Please consider using the`keras.utils.Sequence class.\n",
      "  UserWarning('Using a generator with `use_multiprocessing=True`'\n"
     ]
    },
    {
     "name": "stdout",
     "output_type": "stream",
     "text": [
      "Epoch 1/10\n",
      "35/35 [==============================] - 24s 698ms/step - loss: 0.9867 - final_2_loss: 0.6081 - final_1_loss: 0.7573 - final_2_acc: 0.8143 - final_1_acc: 0.7704\n",
      "Epoch 2/10\n",
      "35/35 [==============================] - 25s 719ms/step - loss: 1.4589 - final_2_loss: 0.7886 - final_1_loss: 1.3406 - final_2_acc: 0.7257 - final_1_acc: 0.5996\n",
      "Epoch 3/10\n",
      "35/35 [==============================] - 28s 806ms/step - loss: 1.1146 - final_2_loss: 0.6124 - final_1_loss: 1.0044 - final_2_acc: 0.8343 - final_1_acc: 0.6729\n",
      "Epoch 4/10\n",
      "35/35 [==============================] - 34s 972ms/step - loss: 0.9630 - final_2_loss: 0.5585 - final_1_loss: 0.8090 - final_2_acc: 0.8257 - final_1_acc: 0.7343\n",
      "Epoch 5/10\n",
      "35/35 [==============================] - 38s 1s/step - loss: 1.0320 - final_2_loss: 0.5778 - final_1_loss: 0.9084 - final_2_acc: 0.8257 - final_1_acc: 0.7506\n",
      "Epoch 6/10\n",
      "35/35 [==============================] - 38s 1s/step - loss: 0.7992 - final_2_loss: 0.3968 - final_1_loss: 0.8048 - final_2_acc: 0.8829 - final_1_acc: 0.7602\n",
      "Epoch 7/10\n",
      "35/35 [==============================] - 40s 1s/step - loss: 0.5619 - final_2_loss: 0.2436 - final_1_loss: 0.6367 - final_2_acc: 0.9629 - final_1_acc: 0.8222\n",
      "Epoch 8/10\n",
      "35/35 [==============================] - 45s 1s/step - loss: 0.9471 - final_2_loss: 0.5219 - final_1_loss: 0.8505 - final_2_acc: 0.7971 - final_1_acc: 0.7142\n",
      "Epoch 9/10\n",
      "35/35 [==============================] - 50s 1s/step - loss: 0.4963 - final_2_loss: 0.2733 - final_1_loss: 0.4461 - final_2_acc: 0.9429 - final_1_acc: 0.8587\n",
      "Epoch 10/10\n",
      "35/35 [==============================] - 46s 1s/step - loss: 0.5924 - final_2_loss: 0.2933 - final_1_loss: 0.5981 - final_2_acc: 0.9257 - final_1_acc: 0.8279\n"
     ]
    },
    {
     "data": {
      "text/plain": [
       "<keras.callbacks.History at 0x7fea7859d390>"
      ]
     },
     "execution_count": 42,
     "metadata": {},
     "output_type": "execute_result"
    }
   ],
   "source": [
    "e2e.fit_generator(generate_batch_data(10), steps_per_epoch=steps, epochs=10, verbose=1, callbacks=None, validation_data=None, validation_steps=None, class_weight=None, max_queue_size=10, workers=2, use_multiprocessing=True, shuffle=True, initial_epoch=0)"
   ]
  },
  {
   "cell_type": "markdown",
   "metadata": {},
   "source": [
    "## Training"
   ]
  },
  {
   "cell_type": "code",
   "execution_count": 18,
   "metadata": {},
   "outputs": [
    {
     "name": "stdout",
     "output_type": "stream",
     "text": [
      "13.636363636363635\n"
     ]
    }
   ],
   "source": [
    "result = evaluate(e2e,X_test,Y_test,verbose=False)\n",
    "print(result)"
   ]
  },
  {
   "cell_type": "code",
   "execution_count": 121,
   "metadata": {},
   "outputs": [],
   "source": [
    "e2e = load_model('../models/End_End/temp0_ke_baad_3_epoch_phir_ulta_weights.h5')"
   ]
  },
  {
   "cell_type": "code",
   "execution_count": 122,
   "metadata": {},
   "outputs": [],
   "source": [
    "e2e.loss_weights = [0.8, 1]"
   ]
  },
  {
   "cell_type": "code",
   "execution_count": 123,
   "metadata": {},
   "outputs": [
    {
     "data": {
      "text/plain": [
       "[0.8, 1]"
      ]
     },
     "execution_count": 123,
     "metadata": {},
     "output_type": "execute_result"
    }
   ],
   "source": [
    "e2e.loss_weights"
   ]
  },
  {
   "cell_type": "code",
   "execution_count": 124,
   "metadata": {},
   "outputs": [
    {
     "name": "stdout",
     "output_type": "stream",
     "text": [
      "Train on 306 samples, validate on 34 samples\n",
      "Epoch 1/2\n",
      "306/306 [==============================] - 146s 477ms/step - loss: 0.5248 - dense_1_loss: 0.1052 - time_distributed_14_loss: 0.4827 - dense_1_acc: 0.9869 - time_distributed_14_acc: 0.8484 - val_loss: 0.3415 - val_dense_1_loss: 0.0709 - val_time_distributed_14_loss: 0.3131 - val_dense_1_acc: 1.0000 - val_time_distributed_14_acc: 0.9559\n",
      "Epoch 2/2\n",
      "306/306 [==============================] - 156s 509ms/step - loss: 0.4978 - dense_1_loss: 0.0969 - time_distributed_14_loss: 0.4591 - dense_1_acc: 0.9935 - time_distributed_14_acc: 0.8615 - val_loss: 0.3202 - val_dense_1_loss: 0.0650 - val_time_distributed_14_loss: 0.2941 - val_dense_1_acc: 1.0000 - val_time_distributed_14_acc: 0.9551\n"
     ]
    },
    {
     "data": {
      "text/plain": [
       "<keras.callbacks.History at 0x7fef0fae3f60>"
      ]
     },
     "execution_count": 124,
     "metadata": {},
     "output_type": "execute_result"
    }
   ],
   "source": [
    "ten = TensorBoard(log_dir='./logs', histogram_freq=0, batch_size=64, write_graph=True, write_grads=True, write_images=False, embeddings_freq=0, embeddings_layer_names=None, embeddings_metadata=None)\n",
    "e2e.fit(X_train, [Y_train, Y_train2], \n",
    "              epochs = 2, \n",
    "              batch_size = 64, \n",
    "              validation_split = 0.1,\n",
    "              callbacks=[ten])"
   ]
  },
  {
   "cell_type": "code",
   "execution_count": 117,
   "metadata": {},
   "outputs": [],
   "source": [
    "e2e.save('../models/End_End/temp0_ke_baad_3_epoch_phir_ulta_weights.h5')"
   ]
  },
  {
   "cell_type": "markdown",
   "metadata": {},
   "source": [
    "## Testing"
   ]
  },
  {
   "cell_type": "code",
   "execution_count": 130,
   "metadata": {},
   "outputs": [],
   "source": [
    "def build_test_dataset(image_size, stride = 10, max_len = 40, \n",
    "                       video_path = '../UCF_Unseen/',\n",
    "                       image_path = '../UCF_Images/'):\n",
    "    \n",
    "    X_test_images = []\n",
    "    Y_test_images = []\n",
    "    \n",
    "    VIDEOS_DIR = video_path\n",
    "    IMAGES_DIR = image_path\n",
    "    classes = ['Kicking', 'Riding-Horse', 'Running', 'SkateBoarding', 'Swing-Bench', 'Lifting', 'Swing-Side', 'Walking', 'Golf-Swing']\n",
    "    videos = []\n",
    "    for x in classes:\n",
    "        videos.append(list(os.listdir(VIDEOS_DIR+x+'/')))\n",
    "    \n",
    "    for i in range(len(classes)):\n",
    "        cls = classes[i]\n",
    "        \n",
    "        for j in range(len(videos[i])):\n",
    "            vid = videos[i][j]\n",
    "            video_r = VIDEOS_DIR+cls+'/'+ vid +'/'\n",
    "            image_r = IMAGES_DIR+cls+'/'+ vid +'/'\n",
    "            filelist = sorted(list(os.listdir(image_r)))\n",
    "            X_train_images_class = []\n",
    "            for file in filelist:\n",
    "                if file.endswith(\".png\"):\n",
    "                    image = load_image(image_r+file,image_size)\n",
    "                    X_train_images_class.append(image)\n",
    "            X_train_images_class = np.array(X_train_images_class)        \n",
    "            X_test_frames = []                                \n",
    "            for k in range(0,len(X_train_images_class),stride):\n",
    "                lower = k\n",
    "                upper = min(len(X_train_images_class),k+max_len)\n",
    "                if upper == len(X_train_images_class):             \n",
    "                    X_test_frames.append(pad(X_train_images_class[lower:upper],max_len))\n",
    "                    X_test_images.append(np.array(X_test_frames))        \n",
    "                    Y_test_images.append(i)\n",
    "                    print(\"Padded frames\" , lower , \"to\" , upper)\n",
    "                    break\n",
    "                else:\n",
    "                    X_test_frames.append(X_train_images_class[lower:upper])\n",
    "                    print(\"Added frames\" , lower , \"to\" , upper)\n",
    "                    \n",
    "            print(\"Processed\",videos[i][j],\"of\",\"class\",classes[i])\n",
    "    return np.array(X_test_images), np.array(Y_test_images)"
   ]
  },
  {
   "cell_type": "code",
   "execution_count": 56,
   "metadata": {
    "scrolled": true
   },
   "outputs": [],
   "source": [
    "X_test_unseen = None\n",
    "Y_test_unseen = None\n",
    "try:\n",
    "    X_test_unseen = np.load('../Numpy/End2End/X_test_unseen.npy')\n",
    "    Y_test_unseen = np.load('../Numpy/End2End/Y_test_unseen.npy')\n",
    "except FileNotFoundError:\n",
    "    X_test_unseen, Y_test_unseen = build_test_dataset((172,172))\n",
    "    np.save('../Numpy/End2End/X_test_unseen.npy', X_test_unseen)\n",
    "    np.save('../Numpy/End2End/Y_test_unseen.npy', Y_test_unseen)"
   ]
  },
  {
   "cell_type": "code",
   "execution_count": 131,
   "metadata": {},
   "outputs": [],
   "source": [
    "X_test_full = None\n",
    "Y_test_full = None\n",
    "try:\n",
    "    X_test_full = np.load('../Numpy/End2End/X_test_full_training.npy')\n",
    "    Y_test_full = np.load('../Numpy/End2End/Y_test_full_training.npy')\n",
    "except FileNotFoundError:\n",
    "    X_test_full, Y_test_full = build_test_dataset((172,172),\n",
    "                                                  video_path='../Videos/',\n",
    "                                                  image_path='../Images/')\n",
    "    np.save('../Numpy/End2End/X_test_full_training.npy', X_test_full)\n",
    "    np.save('../Numpy/End2End/Y_test_full_training.npy', Y_test_full)"
   ]
  },
  {
   "cell_type": "code",
   "execution_count": 132,
   "metadata": {},
   "outputs": [
    {
     "data": {
      "text/plain": [
       "(111,)"
      ]
     },
     "execution_count": 132,
     "metadata": {},
     "output_type": "execute_result"
    }
   ],
   "source": [
    "Y_test_full.shape"
   ]
  },
  {
   "cell_type": "code",
   "execution_count": 125,
   "metadata": {},
   "outputs": [
    {
     "name": "stdout",
     "output_type": "stream",
     "text": [
      "Max Preds time [7]\n",
      "Pred Walking Actual Kicking\n",
      "\n",
      "Max Preds time [7]\n",
      "Pred Walking Actual Kicking\n",
      "\n",
      "Max Preds time [7]\n",
      "Pred Walking Actual Kicking\n",
      "\n",
      "Max Preds time [1]\n",
      "Pred Riding-Horse Actual Riding-Horse\n",
      "\n",
      "Max Preds time [7]\n",
      "Pred Walking Actual Riding-Horse\n",
      "\n",
      "Max Preds time [8, 8, 8, 8]\n",
      "Pred Golf-Swing Actual Running\n",
      "\n",
      "Max Preds time [2, 2, 2, 2]\n",
      "Pred Running Actual Running\n",
      "\n",
      "Max Preds time [4, 4, 4, 4]\n",
      "Pred Swing-Bench Actual SkateBoarding\n",
      "\n",
      "Max Preds time [3, 3, 3, 3]\n",
      "Pred SkateBoarding Actual SkateBoarding\n",
      "\n",
      "Max Preds time [4, 4]\n",
      "Pred Swing-Bench Actual Swing-Bench\n",
      "\n",
      "Max Preds time [4, 4]\n",
      "Pred Swing-Bench Actual Swing-Bench\n",
      "\n",
      "Max Preds time [4, 4]\n",
      "Pred Swing-Bench Actual Swing-Bench\n",
      "\n",
      "Max Preds time [5, 5, 5, 5, 5, 5, 5, 5, 5, 5]\n",
      "Pred Lifting Actual Lifting\n",
      "\n",
      "Max Preds time [5, 5, 5, 5, 5, 5, 5, 5, 5, 5]\n",
      "Pred Lifting Actual Lifting\n",
      "\n",
      "Max Preds time [6, 6, 6, 6, 6]\n",
      "Pred Swing-Side Actual Swing-Side\n",
      "\n",
      "Max Preds time [6]\n",
      "Pred Swing-Side Actual Swing-Side\n",
      "\n",
      "Max Preds time [7, 7, 7]\n",
      "Pred Walking Actual Walking\n",
      "\n",
      "Max Preds time [8, 8, 8, 8, 8, 8, 8, 0]\n",
      "Pred Golf-Swing Actual Walking\n",
      "\n",
      "Max Preds time [7, 7, 7, 7, 7, 7, 7, 7]\n",
      "Pred Walking Actual Walking\n",
      "\n",
      "Max Preds time [8, 8, 8]\n",
      "Pred Golf-Swing Actual Golf-Swing\n",
      "\n",
      "Max Preds time [0]\n",
      "Pred Kicking Actual Golf-Swing\n",
      "\n",
      "Max Preds time [8, 8, 8]\n",
      "Pred Golf-Swing Actual Golf-Swing\n",
      "\n",
      "Confusion Matrix\n",
      "[[0 0 0 0 0 0 0 3 0]\n",
      " [0 1 0 0 0 0 0 1 0]\n",
      " [0 0 1 0 0 0 0 0 1]\n",
      " [0 0 0 1 1 0 0 0 0]\n",
      " [0 0 0 0 3 0 0 0 0]\n",
      " [0 0 0 0 0 2 0 0 0]\n",
      " [0 0 0 0 0 0 2 0 0]\n",
      " [0 0 0 0 0 0 0 2 1]\n",
      " [1 0 0 0 0 0 0 0 2]]\n",
      "Max Preds time [0]\n",
      "Pred Kicking Actual Kicking\n",
      "\n",
      "Max Preds time [0]\n",
      "Pred Kicking Actual Kicking\n",
      "\n",
      "Max Preds time [0]\n",
      "Pred Kicking Actual Kicking\n",
      "\n",
      "Max Preds time [0]\n",
      "Pred Kicking Actual Kicking\n",
      "\n",
      "Max Preds time [7]\n",
      "Pred Walking Actual Riding-Horse\n",
      "\n",
      "Max Preds time [1, 1, 1]\n",
      "Pred Riding-Horse Actual Riding-Horse\n",
      "\n",
      "Max Preds time [8, 8, 8, 7]\n",
      "Pred Golf-Swing Actual Running\n",
      "\n",
      "Max Preds time [3, 3, 3, 3]\n",
      "Pred SkateBoarding Actual SkateBoarding\n",
      "\n",
      "Max Preds time [3, 3, 3, 3]\n",
      "Pred SkateBoarding Actual SkateBoarding\n",
      "\n",
      "Max Preds time [4, 4]\n",
      "Pred Swing-Bench Actual Swing-Bench\n",
      "\n",
      "Max Preds time [4, 4]\n",
      "Pred Swing-Bench Actual Swing-Bench\n",
      "\n",
      "Max Preds time [4, 4]\n",
      "Pred Swing-Bench Actual Swing-Bench\n",
      "\n",
      "Max Preds time [5, 5, 5, 5, 5, 5, 5, 5, 5, 5]\n",
      "Pred Lifting Actual Lifting\n",
      "\n",
      "Max Preds time [6]\n",
      "Pred Swing-Side Actual Swing-Side\n",
      "\n",
      "Max Preds time [6, 6, 6, 6, 6]\n",
      "Pred Swing-Side Actual Swing-Side\n",
      "\n",
      "Max Preds time [7, 7, 7, 7, 7, 7, 7, 7]\n",
      "Pred Walking Actual Walking\n",
      "\n",
      "Max Preds time [7, 7, 7, 7, 7]\n",
      "Pred Walking Actual Walking\n",
      "\n",
      "Max Preds time [7, 7, 7, 7, 7, 7, 7, 7]\n",
      "Pred Walking Actual Walking\n",
      "\n",
      "Max Preds time [8, 8, 8]\n",
      "Pred Golf-Swing Actual Golf-Swing\n",
      "\n",
      "Max Preds time [8, 8, 8]\n",
      "Pred Golf-Swing Actual Golf-Swing\n",
      "\n",
      "Max Preds time [8, 8, 8]\n",
      "Pred Golf-Swing Actual Golf-Swing\n",
      "\n",
      "Max Preds time [8, 8, 8]\n",
      "Pred Golf-Swing Actual Golf-Swing\n",
      "\n",
      "Confusion Matrix\n",
      "[[4 0 0 0 0 0 0 0 0]\n",
      " [0 1 0 0 0 0 0 1 0]\n",
      " [0 0 0 0 0 0 0 0 1]\n",
      " [0 0 0 2 0 0 0 0 0]\n",
      " [0 0 0 0 3 0 0 0 0]\n",
      " [0 0 0 0 0 1 0 0 0]\n",
      " [0 0 0 0 0 0 2 0 0]\n",
      " [0 0 0 0 0 0 0 3 0]\n",
      " [0 0 0 0 0 0 0 0 4]]\n"
     ]
    }
   ],
   "source": [
    "#e2e = load_model('../models/End_End/temp0.h5')\n",
    "res_norm = evaluate(e2e, X_test, Y_test, verbose=True)\n",
    "res_un = evaluate(e2e, X_test_unseen, Y_test_unseen,verbose=True)"
   ]
  },
  {
   "cell_type": "code",
   "execution_count": 126,
   "metadata": {},
   "outputs": [
    {
     "name": "stdout",
     "output_type": "stream",
     "text": [
      "63.63636363636363 90.9090909090909\n"
     ]
    }
   ],
   "source": [
    "print(res_norm,res_un)"
   ]
  },
  {
   "cell_type": "code",
   "execution_count": 133,
   "metadata": {},
   "outputs": [
    {
     "name": "stdout",
     "output_type": "stream",
     "text": [
      "temp0_ke_baad_3_epoch_phir_ulta_weights.h5 95.4954954954955\n",
      "temp0.h5 90.990990990991\n",
      "temp0_ke_baad_3_epoch.h5 95.4954954954955\n"
     ]
    }
   ],
   "source": [
    "for i in os.listdir('../models/End_End/'):\n",
    "    if i[-3:] == '.h5'and i[:5] == 'temp0':\n",
    "        mod_16 = load_model('../models/End_End/' + i)\n",
    "        res_un = evaluate(mod_16, X_test_unseen, Y_test_unseen,verbose=False)\n",
    "        res_norm = evaluate(mod_16, X_test, Y_test, verbose=False)\n",
    "        res_f = evaluate(mod_16, X_test_full, Y_test_full, verbose=False)\n",
    "        print(i,res_un,res_norm,res_f)\n",
    "        print(i, res_f)"
   ]
  },
  {
   "cell_type": "code",
   "execution_count": null,
   "metadata": {
    "collapsed": true
   },
   "outputs": [],
   "source": []
  }
 ],
 "metadata": {
  "kernelspec": {
   "display_name": "Python 3",
   "language": "python",
   "name": "python3"
  },
  "language_info": {
   "codemirror_mode": {
    "name": "ipython",
    "version": 3
   },
   "file_extension": ".py",
   "mimetype": "text/x-python",
   "name": "python",
   "nbconvert_exporter": "python",
   "pygments_lexer": "ipython3",
   "version": "3.5.2"
  }
 },
 "nbformat": 4,
 "nbformat_minor": 2
}
