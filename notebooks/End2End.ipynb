{
 "cells": [
  {
   "cell_type": "markdown",
   "metadata": {},
   "source": [
    "### Perform Imports"
   ]
  },
  {
   "cell_type": "code",
   "execution_count": 1,
   "metadata": {},
   "outputs": [
    {
     "name": "stderr",
     "output_type": "stream",
     "text": [
      "/usr/local/lib/python3.5/dist-packages/h5py/__init__.py:36: FutureWarning: Conversion of the second argument of issubdtype from `float` to `np.floating` is deprecated. In future, it will be treated as `np.float64 == np.dtype(float).type`.\n",
      "  from ._conv import register_converters as _register_converters\n",
      "Using TensorFlow backend.\n"
     ]
    }
   ],
   "source": [
    "import matplotlib.pyplot as plt\n",
    "import cv2\n",
    "import numpy as np\n",
    "import os\n",
    "from keras import backend as K\n",
    "import tensorflow as tf\n",
    "from keras.layers import Conv2D, Dropout, LSTM, BatchNormalization, Input,Activation, MaxPool2D, Flatten, Dense,TimeDistributed\n",
    "from keras.models import Model, load_model\n",
    "from keras.callbacks import ModelCheckpoint, TensorBoard, EarlyStopping\n",
    "from keras.layers.convolutional import ZeroPadding2D\n",
    "from keras import metrics\n",
    "import h5py\n",
    "from sklearn.metrics import confusion_matrix\n",
    "from utils import *\n",
    "from data_utils import *\n",
    "from models import *\n",
    "import math\n",
    "import gc"
   ]
  },
  {
   "cell_type": "code",
   "execution_count": 2,
   "metadata": {},
   "outputs": [
    {
     "name": "stdout",
     "output_type": "stream",
     "text": [
      "../Videos/\n",
      "../Images/\n",
      "['Kicking', 'Riding-Horse', 'Running', 'SkateBoarding', 'Swing-Bench', 'Lifting', 'Swing-Side', 'Walking', 'Golf-Swing']\n",
      "{'Lifting': 5, 'Swing-Bench': 4, 'Golf-Swing': 8, 'Riding-Horse': 1, 'SkateBoarding': 3, 'Kicking': 0, 'Running': 2, 'Swing-Side': 6, 'Walking': 7}\n",
      "[['006', '017', '003', '016', '009', '013', '005', '012', '010', '015', '014', '007', '004', '011', '002', '001'], ['006', '003', '009', '005', '010', '007', '004', '002', '008', '001'], ['006', '009', '005', '010', '007', '004', '002', '008', '001'], ['006', '003', '009', '005', '010', '007', '004', '002', '008', '001'], ['006', '017', '003', '016', '009', '013', '005', '012', '010', '015', '014', '007', '004', '011', '002', '008', '001'], ['003', '005', '004', '002', '001'], ['006', '003', '009', '005', '010', '007', '004', '011', '002', '008', '001'], ['006', '017', '003', '016', '009', '013', '005', '012', '010', '015', '014', '007', '019', '004', '011', '018', '002', '008', '001'], ['006', '003', '009', '013', '005', '012', '010', '014', '007', '004', '011', '002', '008', '001']]\n"
     ]
    }
   ],
   "source": [
    "VIDEOS_DIR, IMAGES_DIR, classes, class_to_index, videos = get_global_variables()\n",
    "print(VIDEOS_DIR)\n",
    "print(IMAGES_DIR)\n",
    "print(classes)\n",
    "print(class_to_index)\n",
    "print(videos)"
   ]
  },
  {
   "cell_type": "code",
   "execution_count": 3,
   "metadata": {},
   "outputs": [
    {
     "data": {
      "text/plain": [
       "[]"
      ]
     },
     "execution_count": 3,
     "metadata": {},
     "output_type": "execute_result"
    }
   ],
   "source": [
    "K.tensorflow_backend._get_available_gpus()"
   ]
  },
  {
   "cell_type": "code",
   "execution_count": 9,
   "metadata": {},
   "outputs": [],
   "source": [
    "def end_to_end_gpu(input_shape):\n",
    "    X_input = Input(input_shape)\n",
    "    \n",
    "    with tf.device('/cpu:0'):\n",
    "        X = TimeDistributed(BatchNormalization(), name = 'BatchNorm_1')(X_input)\n",
    "        X = TimeDistributed(Conv2D(32, (7, 7), strides = (4, 4), activation='relu', padding=\"same\"), name=\"Conv_1a\")(X)\n",
    "        X = TimeDistributed(Conv2D(32, (3, 3), activation='relu', padding=\"same\") , name=\"Conv_1b\")(X)\n",
    "        X = TimeDistributed(MaxPool2D((2, 2)),  name = \"Pool_1\")(X)\n",
    "        X = TimeDistributed(Dropout(0.2), name = \"Dropout_1\")(X)\n",
    "    \n",
    "    #with tf.device('/gpu:0'):     \n",
    "        X = TimeDistributed(Conv2D(32, (3, 3), activation='relu', padding = \"same\"), name =\"Conv_2a\")(X)\n",
    "        X = TimeDistributed(MaxPool2D((2, 2)), name = \"Pool_2\")(X)\n",
    "        X = TimeDistributed(Dropout(0.2), name= \"Dropout_2\")(X)\n",
    "\n",
    "        X = TimeDistributed(Conv2D(32,(3,3), name='Conv_3a', activation='relu'))(X)\n",
    "        X = TimeDistributed(MaxPool2D((2, 2), name = \"Pool_3\"))(X)\n",
    "        X = TimeDistributed(Dropout(0.2), name = \"Dropout_3\")(X)\n",
    "\n",
    "        X = TimeDistributed(Conv2D(8,(1,1), activation='relu'), name='Conv_1x1')(X)\n",
    "        X = TimeDistributed(Flatten())(X)\n",
    "        X = TimeDistributed(Dropout(0.3))(X)\n",
    "        Y = TimeDistributed(Dense(9,activation='softmax',name='final'),name='Secondary_Output')(X)\n",
    "\n",
    "        X = LSTM(48, return_sequences=False,dropout=0.3, name = \"LSTM1\")(X)\n",
    "        #X = LSTM(32, return_sequences=False)(X)\n",
    "        X = Dense(9, activation='softmax',name='Primary_Output')(X)\n",
    "\n",
    "    return Model(X_input, outputs=[X, Y])\n"
   ]
  },
  {
   "cell_type": "code",
   "execution_count": 4,
   "metadata": {
    "scrolled": true
   },
   "outputs": [],
   "source": [
    "X_train, Y_train, X_test, Y_test = build_dataset_end_to_end((172, 172))"
   ]
  },
  {
   "cell_type": "code",
   "execution_count": null,
   "metadata": {},
   "outputs": [],
   "source": [
    "X_train.shape, X_test.shape,Y_train.shape, Y_test.shape"
   ]
  },
  {
   "cell_type": "code",
   "execution_count": null,
   "metadata": {},
   "outputs": [],
   "source": [
    "Y_train.shape"
   ]
  },
  {
   "cell_type": "code",
   "execution_count": null,
   "metadata": {},
   "outputs": [],
   "source": [
    "x = np.random.randint(568)\n",
    "plt.imshow(X_train[x, 0])\n",
    "print(classes[Y_train[x]])"
   ]
  },
  {
   "cell_type": "code",
   "execution_count": 10,
   "metadata": {},
   "outputs": [],
   "source": [
    "e2e = end_to_end_gpu((40, 172, 172, 3))"
   ]
  },
  {
   "cell_type": "code",
   "execution_count": 11,
   "metadata": {},
   "outputs": [
    {
     "name": "stdout",
     "output_type": "stream",
     "text": [
      "__________________________________________________________________________________________________\n",
      "Layer (type)                    Output Shape         Param #     Connected to                     \n",
      "==================================================================================================\n",
      "input_2 (InputLayer)            (None, 40, 172, 172, 0                                            \n",
      "__________________________________________________________________________________________________\n",
      "BatchNorm_1 (TimeDistributed)   (None, 40, 172, 172, 12          input_2[0][0]                    \n",
      "__________________________________________________________________________________________________\n",
      "Conv_1a (TimeDistributed)       (None, 40, 43, 43, 3 4736        BatchNorm_1[0][0]                \n",
      "__________________________________________________________________________________________________\n",
      "Conv_1b (TimeDistributed)       (None, 40, 43, 43, 3 9248        Conv_1a[0][0]                    \n",
      "__________________________________________________________________________________________________\n",
      "Pool_1 (TimeDistributed)        (None, 40, 21, 21, 3 0           Conv_1b[0][0]                    \n",
      "__________________________________________________________________________________________________\n",
      "Dropout_1 (TimeDistributed)     (None, 40, 21, 21, 3 0           Pool_1[0][0]                     \n",
      "__________________________________________________________________________________________________\n",
      "Conv_2a (TimeDistributed)       (None, 40, 21, 21, 3 9248        Dropout_1[0][0]                  \n",
      "__________________________________________________________________________________________________\n",
      "Pool_2 (TimeDistributed)        (None, 40, 10, 10, 3 0           Conv_2a[0][0]                    \n",
      "__________________________________________________________________________________________________\n",
      "Dropout_2 (TimeDistributed)     (None, 40, 10, 10, 3 0           Pool_2[0][0]                     \n",
      "__________________________________________________________________________________________________\n",
      "time_distributed_5 (TimeDistrib (None, 40, 8, 8, 32) 9248        Dropout_2[0][0]                  \n",
      "__________________________________________________________________________________________________\n",
      "time_distributed_6 (TimeDistrib (None, 40, 4, 4, 32) 0           time_distributed_5[0][0]         \n",
      "__________________________________________________________________________________________________\n",
      "Dropout_3 (TimeDistributed)     (None, 40, 4, 4, 32) 0           time_distributed_6[0][0]         \n",
      "__________________________________________________________________________________________________\n",
      "Conv_1x1 (TimeDistributed)      (None, 40, 4, 4, 8)  264         Dropout_3[0][0]                  \n",
      "__________________________________________________________________________________________________\n",
      "time_distributed_7 (TimeDistrib (None, 40, 128)      0           Conv_1x1[0][0]                   \n",
      "__________________________________________________________________________________________________\n",
      "time_distributed_8 (TimeDistrib (None, 40, 128)      0           time_distributed_7[0][0]         \n",
      "__________________________________________________________________________________________________\n",
      "LSTM1 (LSTM)                    (None, 48)           33984       time_distributed_8[0][0]         \n",
      "__________________________________________________________________________________________________\n",
      "Primary_Output (Dense)          (None, 9)            441         LSTM1[0][0]                      \n",
      "__________________________________________________________________________________________________\n",
      "Secondary_Output (TimeDistribut (None, 40, 9)        1161        time_distributed_8[0][0]         \n",
      "==================================================================================================\n",
      "Total params: 68,342\n",
      "Trainable params: 68,336\n",
      "Non-trainable params: 6\n",
      "__________________________________________________________________________________________________\n"
     ]
    }
   ],
   "source": [
    "e2e.summary()"
   ]
  },
  {
   "cell_type": "code",
   "execution_count": 12,
   "metadata": {},
   "outputs": [],
   "source": [
    "e2e.compile(loss=['categorical_crossentropy', 'categorical_crossentropy'], loss_weights=[1, 0.6],\n",
    "        metrics=['accuracy'],\n",
    "        optimizer='adam')"
   ]
  },
  {
   "cell_type": "code",
   "execution_count": 5,
   "metadata": {},
   "outputs": [],
   "source": [
    "X_train, Y_train = permute(X_train, Y_train)"
   ]
  },
  {
   "cell_type": "code",
   "execution_count": 6,
   "metadata": {},
   "outputs": [
    {
     "data": {
      "text/plain": [
       "(647, 40, 172, 172, 3)"
      ]
     },
     "execution_count": 6,
     "metadata": {},
     "output_type": "execute_result"
    }
   ],
   "source": [
    "X_train.shape"
   ]
  },
  {
   "cell_type": "code",
   "execution_count": 7,
   "metadata": {},
   "outputs": [],
   "source": [
    "Y_train = convert_to_one_hot(Y_train, 9)"
   ]
  },
  {
   "cell_type": "code",
   "execution_count": 8,
   "metadata": {},
   "outputs": [
    {
     "data": {
      "text/plain": [
       "(647, 9)"
      ]
     },
     "execution_count": 8,
     "metadata": {},
     "output_type": "execute_result"
    }
   ],
   "source": [
    "Y_train.shape"
   ]
  },
  {
   "cell_type": "code",
   "execution_count": 9,
   "metadata": {},
   "outputs": [],
   "source": [
    "Y_train2 = np.tile(Y_train, (40, 1, 1))"
   ]
  },
  {
   "cell_type": "code",
   "execution_count": 10,
   "metadata": {},
   "outputs": [],
   "source": [
    "Y_train2 = Y_train2.transpose(1, 0, 2)\n"
   ]
  },
  {
   "cell_type": "code",
   "execution_count": 11,
   "metadata": {},
   "outputs": [
    {
     "data": {
      "text/plain": [
       "(647, 40, 9)"
      ]
     },
     "execution_count": 11,
     "metadata": {},
     "output_type": "execute_result"
    }
   ],
   "source": [
    "Y_train2.shape"
   ]
  },
  {
   "cell_type": "markdown",
   "metadata": {},
   "source": [
    "### Data Generator"
   ]
  },
  {
   "cell_type": "code",
   "execution_count": null,
   "metadata": {},
   "outputs": [],
   "source": [
    "size = X_train.shape[0]\n",
    "batch_size = 80\n",
    "suffix = 'aug'\n",
    "for i in range(0,size,batch_size):\n",
    "    if not os.path.exists('../Numpy/End2End/batch' + str(batch_size)):\n",
    "        os.mkdir('../Numpy/End2End/batch' + str(batch_size))\n",
    "    np.save('../Numpy/End2End/batch' + str(batch_size) + '/X_' + suffix + '_' + str(i) + '.npy',X_train[i:i+batch_size])\n",
    "    np.save('../Numpy/End2End/batch' + str(batch_size) + '/Y_' + suffix + '_' + str(i) + '.npy',Y_train[i:i+batch_size])\n",
    "    np.save('../Numpy/End2End/batch' + str(batch_size) + '/Y2_' + suffix + '_' + str(i) + '.npy',Y_train2[i:i+batch_size])"
   ]
  },
  {
   "cell_type": "markdown",
   "metadata": {},
   "source": [
    "#### Generator Testing"
   ]
  },
  {
   "cell_type": "code",
   "execution_count": null,
   "metadata": {},
   "outputs": [],
   "source": [
    "def generate_batch_data(train_size,batch_size,suffix = 'aug'):\n",
    "    \n",
    "    while 1:\n",
    "        i = 0\n",
    "        for i in range(0,train_size,batch_size):\n",
    "            X_batch = '../Numpy/End2End/batch' + str(batch_size) + '/X_' + suffix + '_' + str(i) + '.npy'\n",
    "            Y_batch =  '../Numpy/End2End/batch' + str(batch_size) + '/Y_' + suffix + '_' + str(i) + '.npy'\n",
    "            Y_batch_2 = '../Numpy/End2End/batch' + str(batch_size) + '/Y2_' + suffix + '_' + str(i) + '.npy'\n",
    "            \n",
    "            batch =  (np.load(X_batch),[np.load(Y_batch),np.load(Y_batch_2)])\n",
    "            yield batch"
   ]
  },
  {
   "cell_type": "code",
   "execution_count": null,
   "metadata": {},
   "outputs": [],
   "source": [
    "batch_size = 80\n",
    "train_size = X_train.shape[0]\n",
    "steps = math.ceil(train_size/batch_size)\n",
    "del X_train\n",
    "del Y_train"
   ]
  },
  {
   "cell_type": "code",
   "execution_count": null,
   "metadata": {},
   "outputs": [],
   "source": [
    "gen = generate_batch_data(train_size,batch_size)"
   ]
  },
  {
   "cell_type": "code",
   "execution_count": null,
   "metadata": {},
   "outputs": [],
   "source": [
    "res = next(gen)\n",
    "print(res[0].shape,res[1][0].shape)\n",
    "e2e.train_on_batch(res[0],res[1])"
   ]
  },
  {
   "cell_type": "code",
   "execution_count": null,
   "metadata": {},
   "outputs": [],
   "source": [
    "epochs = 5\n",
    "for i in range(epochs):\n",
    "    for j in range(steps):\n",
    "        res = next(gen)\n",
    "        print(res[0].shape,res[1][0].shape)\n",
    "        e2e.train_on_batch(res[0],res[1])\n",
    "        del res\n",
    "    print(\"Epoch\",i,\"done..\")    "
   ]
  },
  {
   "cell_type": "markdown",
   "metadata": {},
   "source": [
    "## Training"
   ]
  },
  {
   "cell_type": "code",
   "execution_count": 39,
   "metadata": {},
   "outputs": [
    {
     "name": "stdout",
     "output_type": "stream",
     "text": [
      "temp_11_11.h5 59.523809523809526\n",
      "temp_13.h5 57.14285714285714\n",
      "temp_11_1.h5 61.904761904761905\n",
      "temp_10.h5 40.476190476190474\n",
      "temp_8.h5 54.761904761904766\n",
      "temp_11_6.h5 69.04761904761905\n",
      "temp_11_14.h5 64.28571428571429\n",
      "temp_11_12.h5 69.04761904761905\n",
      "temp_14.h5 66.66666666666666\n",
      "temp_11_2.h5 61.904761904761905\n",
      "temp_11_13.h5 64.28571428571429\n",
      "temp_11_3.h5 52.38095238095239\n",
      "temp_11.h5 54.761904761904766\n",
      "temp_11_4.h5 64.28571428571429\n",
      "temp_7.h5 54.761904761904766\n",
      "temp_11_10.h5 61.904761904761905\n",
      "temp_12.h5 52.38095238095239\n",
      "temp_11_5.h5 64.28571428571429\n",
      "temp_11_0.h5 47.61904761904761\n",
      "temp_9.h5 61.904761904761905\n"
     ]
    }
   ],
   "source": [
    "for i in os.listdir():\n",
    "    if i[-3:] == '.h5':\n",
    "        mod = load_model(i)\n",
    "        res = evaluate(mod,X_test,Y_test,verbose=False)\n",
    "        print(i,res)"
   ]
  },
  {
   "cell_type": "code",
   "execution_count": null,
   "metadata": {},
   "outputs": [],
   "source": [
    "for i in os.listdir('../models/End_End/'):\n",
    "    print(i)\n",
    "    if i[-3:] == '.h5':\n",
    "        mod = load_model('../models/End_End/' + i)\n",
    "        res = evaluate(mod,X_test_unseen,Y_test_unseen,verbose=False)\n",
    "        print(i,res)"
   ]
  },
  {
   "cell_type": "code",
   "execution_count": 33,
   "metadata": {},
   "outputs": [],
   "source": [
    "e2e = load_model('temp_11_6.h5')"
   ]
  },
  {
   "cell_type": "code",
   "execution_count": 34,
   "metadata": {},
   "outputs": [
    {
     "name": "stdout",
     "output_type": "stream",
     "text": [
      "Max Preds time [0]\n",
      "Pred Kicking Actual Kicking\n",
      "\n",
      "Max Preds time [0]\n",
      "Pred Kicking Actual Kicking\n",
      "\n",
      "Max Preds time [0]\n",
      "Pred Kicking Actual Kicking\n",
      "\n",
      "Max Preds time [0]\n",
      "Pred Kicking Actual Kicking\n",
      "\n",
      "Max Preds time [2]\n",
      "Pred Running Actual Riding-Horse\n",
      "\n",
      "Max Preds time [1, 1, 1]\n",
      "Pred Riding-Horse Actual Riding-Horse\n",
      "\n",
      "Max Preds time [7, 7, 7, 7]\n",
      "Pred Walking Actual Running\n",
      "\n",
      "Max Preds time [2, 2, 2, 2]\n",
      "Pred Running Actual SkateBoarding\n",
      "\n",
      "Max Preds time [3, 3, 7, 8]\n",
      "Pred SkateBoarding Actual SkateBoarding\n",
      "\n",
      "Max Preds time [4, 4]\n",
      "Pred Swing-Bench Actual Swing-Bench\n",
      "\n",
      "Max Preds time [4, 4]\n",
      "Pred Swing-Bench Actual Swing-Bench\n",
      "\n",
      "Max Preds time [4, 4]\n",
      "Pred Swing-Bench Actual Swing-Bench\n",
      "\n",
      "Max Preds time [5, 5, 5, 5, 5, 5, 5, 5, 5, 5]\n",
      "Pred Lifting Actual Lifting\n",
      "\n",
      "Max Preds time [0]\n",
      "Pred Kicking Actual Swing-Side\n",
      "\n",
      "Max Preds time [6, 6, 6, 6, 6]\n",
      "Pred Swing-Side Actual Swing-Side\n",
      "\n",
      "Max Preds time [8, 8, 8, 8, 8, 8, 8, 7]\n",
      "Pred Golf-Swing Actual Walking\n",
      "\n",
      "Max Preds time [7, 7, 7, 7, 7]\n",
      "Pred Walking Actual Walking\n",
      "\n",
      "Max Preds time [7, 7, 7, 7, 7, 7, 7, 8]\n",
      "Pred Walking Actual Walking\n",
      "\n",
      "Max Preds time [8, 8, 8]\n",
      "Pred Golf-Swing Actual Golf-Swing\n",
      "\n",
      "Max Preds time [8, 8, 8]\n",
      "Pred Golf-Swing Actual Golf-Swing\n",
      "\n",
      "Max Preds time [8, 8, 8]\n",
      "Pred Golf-Swing Actual Golf-Swing\n",
      "\n",
      "Max Preds time [8, 8, 8]\n",
      "Pred Golf-Swing Actual Golf-Swing\n",
      "\n",
      "Confusion Matrix\n",
      "[[4 0 0 0 0 0 0 0 0]\n",
      " [0 1 1 0 0 0 0 0 0]\n",
      " [0 0 0 0 0 0 0 1 0]\n",
      " [0 0 1 1 0 0 0 0 0]\n",
      " [0 0 0 0 3 0 0 0 0]\n",
      " [0 0 0 0 0 1 0 0 0]\n",
      " [1 0 0 0 0 0 1 0 0]\n",
      " [0 0 0 0 0 0 0 2 1]\n",
      " [0 0 0 0 0 0 0 0 4]]\n"
     ]
    },
    {
     "data": {
      "text/plain": [
       "77.27272727272727"
      ]
     },
     "execution_count": 34,
     "metadata": {},
     "output_type": "execute_result"
    }
   ],
   "source": [
    "evaluate(e2e,X_unseen,Y_unseen)"
   ]
  },
  {
   "cell_type": "code",
   "execution_count": 35,
   "metadata": {},
   "outputs": [
    {
     "data": {
      "text/plain": [
       "[1, 0.9]"
      ]
     },
     "execution_count": 35,
     "metadata": {},
     "output_type": "execute_result"
    }
   ],
   "source": [
    "e2e.loss_weights"
   ]
  },
  {
   "cell_type": "code",
   "execution_count": 36,
   "metadata": {},
   "outputs": [],
   "source": [
    "e2e.loss_weights = [1,0.6]"
   ]
  },
  {
   "cell_type": "code",
   "execution_count": 37,
   "metadata": {
    "scrolled": true
   },
   "outputs": [
    {
     "name": "stdout",
     "output_type": "stream",
     "text": [
      "Train on 582 samples, validate on 65 samples\n",
      "Epoch 1/1\n",
      "582/582 [==============================] - 311s 534ms/step - loss: 1.7581 - Primary_Output_loss: 0.7451 - Secondary_Output_loss: 1.1255 - Primary_Output_acc: 0.7337 - Secondary_Output_acc: 0.5703 - val_loss: 1.5054 - val_Primary_Output_loss: 0.6814 - val_Secondary_Output_loss: 0.9155 - val_Primary_Output_acc: 0.7077 - val_Secondary_Output_acc: 0.6900\n",
      "temp_11_10.h5 63.63636363636363\n",
      "Train on 582 samples, validate on 65 samples\n",
      "Epoch 1/1\n",
      "582/582 [==============================] - 307s 528ms/step - loss: 1.4523 - Primary_Output_loss: 0.5390 - Secondary_Output_loss: 1.0147 - Primary_Output_acc: 0.8144 - Secondary_Output_acc: 0.6223 - val_loss: 1.3077 - val_Primary_Output_loss: 0.5390 - val_Secondary_Output_loss: 0.8541 - val_Primary_Output_acc: 0.7692 - val_Secondary_Output_acc: 0.7481\n",
      "temp_11_11.h5 77.27272727272727\n",
      "Train on 582 samples, validate on 65 samples\n",
      "Epoch 1/1\n",
      "582/582 [==============================] - 292s 502ms/step - loss: 1.4120 - Primary_Output_loss: 0.5385 - Secondary_Output_loss: 0.9705 - Primary_Output_acc: 0.8058 - Secondary_Output_acc: 0.6350 - val_loss: 1.2817 - val_Primary_Output_loss: 0.5620 - val_Secondary_Output_loss: 0.7997 - val_Primary_Output_acc: 0.7538 - val_Secondary_Output_acc: 0.6904\n",
      "temp_11_12.h5 77.27272727272727\n",
      "Train on 582 samples, validate on 65 samples\n",
      "Epoch 1/1\n",
      "582/582 [==============================] - 328s 563ms/step - loss: 1.4946 - Primary_Output_loss: 0.6034 - Secondary_Output_loss: 0.9902 - Primary_Output_acc: 0.7680 - Secondary_Output_acc: 0.6258 - val_loss: 1.4113 - val_Primary_Output_loss: 0.6555 - val_Secondary_Output_loss: 0.8397 - val_Primary_Output_acc: 0.7385 - val_Secondary_Output_acc: 0.7288\n",
      "temp_11_13.h5 63.63636363636363\n",
      "Train on 582 samples, validate on 65 samples\n",
      "Epoch 1/1\n",
      "582/582 [==============================] - 299s 513ms/step - loss: 1.2794 - Primary_Output_loss: 0.4657 - Secondary_Output_loss: 0.9041 - Primary_Output_acc: 0.8419 - Secondary_Output_acc: 0.6553 - val_loss: 1.0645 - val_Primary_Output_loss: 0.4134 - val_Secondary_Output_loss: 0.7234 - val_Primary_Output_acc: 0.8000 - val_Secondary_Output_acc: 0.7823\n",
      "temp_11_14.h5 72.72727272727273\n"
     ]
    }
   ],
   "source": [
    "#ten = TensorBoard(log_dir='./logs', histogram_freq=0, batch_size=64, write_graph=True, write_grads=True, write_images=False, embeddings_freq=0, embeddings_layer_names=None, embeddings_metadata=None)\n",
    "es = EarlyStopping(monitor='val_loss', min_delta=0, patience=2, verbose=2, mode='auto')\n",
    "epochs = 5\n",
    "for i in range(epochs):\n",
    "    e2e.fit(X_train, [Y_train, Y_train2], \n",
    "            epochs = 1, \n",
    "            batch_size = 64, \n",
    "            validation_split = 0.1,\n",
    "            verbose=1)\n",
    "    res = evaluate(e2e,X_test_unseen,Y_test_unseen,verbose=False)\n",
    "    e2e.save('temp_11_' + str(i+10) + '.h5')\n",
    "    print('temp_11_' + str(i+10) + '.h5',res)\n",
    "    "
   ]
  },
  {
   "cell_type": "markdown",
   "metadata": {},
   "source": [
    "## Testing"
   ]
  },
  {
   "cell_type": "code",
   "execution_count": 13,
   "metadata": {
    "scrolled": true
   },
   "outputs": [],
   "source": [
    "X_test_unseen, Y_test_unseen = build_test_dataset(image_size=(172, 172), stride = 10, max_len = 40, train = False)"
   ]
  },
  {
   "cell_type": "code",
   "execution_count": 14,
   "metadata": {},
   "outputs": [
    {
     "data": {
      "text/plain": [
       "((22,), (22,))"
      ]
     },
     "execution_count": 14,
     "metadata": {},
     "output_type": "execute_result"
    }
   ],
   "source": [
    "X_test_unseen.shape, Y_test_unseen.shape"
   ]
  },
  {
   "cell_type": "code",
   "execution_count": null,
   "metadata": {},
   "outputs": [],
   "source": [
    "for i in range(9):\n",
    "    mod = load_model('temp_'+ str(9) + '.h5')\n",
    "    res = evaluate(mod,X_test_unseen,Y_test_unseen,verbose=False)\n",
    "    print('temp_'+ str(i) + '.h5',res)\n",
    "    break"
   ]
  },
  {
   "cell_type": "code",
   "execution_count": null,
   "metadata": {},
   "outputs": [],
   "source": [
    "X_test_full, Y_test_full = build_test_dataset(image_size=(172, 172), stride = 10, max_len = 40, train = True)"
   ]
  },
  {
   "cell_type": "code",
   "execution_count": null,
   "metadata": {},
   "outputs": [],
   "source": [
    "X_test_full.shape, Y_test_full.shape"
   ]
  },
  {
   "cell_type": "code",
   "execution_count": null,
   "metadata": {},
   "outputs": [],
   "source": [
    "e2e = load_model('../models/End_End/temp0_ke_baad_3_epoch_phir_ulta_weights.h5')\n",
    "print(evaluate(e2e, X_test_full, Y_test_full, verbose=False))"
   ]
  },
  {
   "cell_type": "code",
   "execution_count": null,
   "metadata": {},
   "outputs": [],
   "source": [
    "print(res_norm,res_un)"
   ]
  },
  {
   "cell_type": "code",
   "execution_count": null,
   "metadata": {},
   "outputs": [],
   "source": [
    "for i in os.listdir('../models/End_End/'):\n",
    "    if i[-3:] == '.h5'and i[:5] == 'temp0':\n",
    "        mod_16 = load_model('../models/End_End/' + i)\n",
    "        res_un = evaluate(mod_16, X_test_unseen, Y_test_unseen,verbose=False)\n",
    "        res_norm = evaluate(mod_16, X_test, Y_test, verbose=False)\n",
    "        res_f = evaluate(mod_16, X_test_full, Y_test_full, verbose=False)\n",
    "        print(i,res_un,res_norm,res_f)\n",
    "        print(i, res_f)"
   ]
  },
  {
   "cell_type": "code",
   "execution_count": null,
   "metadata": {},
   "outputs": [],
   "source": [
    "X_cropped, Y_cropped = build_image_dataset((172, 172))"
   ]
  },
  {
   "cell_type": "code",
   "execution_count": null,
   "metadata": {},
   "outputs": [],
   "source": [
    "X_cropped = np.load('../Numpy/End2End/X_cropped.npy')\n",
    "Y_cropped = np.load('../Numpy/End2End/Y_cropped.npy')"
   ]
  },
  {
   "cell_type": "code",
   "execution_count": null,
   "metadata": {},
   "outputs": [],
   "source": [
    "[X_cropped[i].shape for i in range(len(X_cropped))]"
   ]
  },
  {
   "cell_type": "code",
   "execution_count": null,
   "metadata": {},
   "outputs": [],
   "source": [
    "X_unpack = []\n",
    "Y_unpack = []\n",
    "for i in range(len(X_cropped)):\n",
    "    for j in range(len(X_cropped[i])):\n",
    "        X_unpack.append(X_cropped[i][j])\n",
    "        Y_unpack.append(Y_cropped[i])"
   ]
  },
  {
   "cell_type": "code",
   "execution_count": null,
   "metadata": {},
   "outputs": [],
   "source": [
    "X_unpack = np.array(X_unpack)"
   ]
  },
  {
   "cell_type": "code",
   "execution_count": null,
   "metadata": {},
   "outputs": [],
   "source": [
    "X_unpack.shape"
   ]
  },
  {
   "cell_type": "code",
   "execution_count": null,
   "metadata": {},
   "outputs": [],
   "source": [
    "Y_unpack = np.array(Y_unpack)\n",
    "Y_unpack.shape"
   ]
  },
  {
   "cell_type": "code",
   "execution_count": null,
   "metadata": {},
   "outputs": [],
   "source": [
    "for i in range(len(X_cropped)):\n",
    "    print(i)\n",
    "    plt.imshow(X_cropped[i][0][0].shape)\n",
    "    plt.show()"
   ]
  },
  {
   "cell_type": "code",
   "execution_count": null,
   "metadata": {},
   "outputs": [],
   "source": [
    "X_unpack, Y_unpack = permute(X_unpack, Y_unpack)"
   ]
  },
  {
   "cell_type": "code",
   "execution_count": null,
   "metadata": {},
   "outputs": [],
   "source": [
    "X_unpack = X_unpack[:int(0.5*len(X_unpack))]\n",
    "Y_unpack = Y_unpack[:int(0.5*len(Y_unpack))]"
   ]
  },
  {
   "cell_type": "code",
   "execution_count": null,
   "metadata": {},
   "outputs": [],
   "source": [
    "np.save('../Numpy/End2End/X_unpack.npy', X_unpack)\n",
    "np.save('../Numpy/End2End/Y_unpack.npy', Y_unpack)"
   ]
  },
  {
   "cell_type": "code",
   "execution_count": null,
   "metadata": {},
   "outputs": [],
   "source": [
    "Y_unpack.shape"
   ]
  }
 ],
 "metadata": {
  "kernelspec": {
   "display_name": "Python 3",
   "language": "python",
   "name": "python3"
  },
  "language_info": {
   "codemirror_mode": {
    "name": "ipython",
    "version": 3
   },
   "file_extension": ".py",
   "mimetype": "text/x-python",
   "name": "python",
   "nbconvert_exporter": "python",
   "pygments_lexer": "ipython3",
   "version": "3.5.2"
  }
 },
 "nbformat": 4,
 "nbformat_minor": 2
}
