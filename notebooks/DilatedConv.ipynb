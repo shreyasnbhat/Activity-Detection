{
 "cells": [
  {
   "cell_type": "code",
   "execution_count": 1,
   "metadata": {},
   "outputs": [
    {
     "name": "stderr",
     "output_type": "stream",
     "text": [
      "/home/sudeep/.conda/envs/keras_gpu_tensorflow/lib/python3.6/site-packages/h5py/__init__.py:36: FutureWarning: Conversion of the second argument of issubdtype from `float` to `np.floating` is deprecated. In future, it will be treated as `np.float64 == np.dtype(float).type`.\n",
      "  from ._conv import register_converters as _register_converters\n",
      "Using TensorFlow backend.\n"
     ]
    }
   ],
   "source": [
    "import os\n",
    "os.environ['CUDA_VISIBLE_DEVICES'] = '-1'\n",
    "import matplotlib.pyplot as plt\n",
    "import cv2\n",
    "import numpy as np\n",
    "from utils import *\n",
    "from models import *\n",
    "from data_utils import *\n"
   ]
  },
  {
   "cell_type": "code",
   "execution_count": 2,
   "metadata": {
    "scrolled": true
   },
   "outputs": [],
   "source": [
    "VIDEOS_DIR, IMAGES_DIR, classes, class_to_index, videos = get_global_variables()"
   ]
  },
  {
   "cell_type": "code",
   "execution_count": 3,
   "metadata": {},
   "outputs": [],
   "source": [
    "dcnn = dilated_conv((40, 172, 172, 3))"
   ]
  },
  {
   "cell_type": "code",
   "execution_count": 4,
   "metadata": {},
   "outputs": [
    {
     "name": "stdout",
     "output_type": "stream",
     "text": [
      "__________________________________________________________________________________________________\n",
      "Layer (type)                    Output Shape         Param #     Connected to                     \n",
      "==================================================================================================\n",
      "input_1 (InputLayer)            (None, 40, 172, 172, 0                                            \n",
      "__________________________________________________________________________________________________\n",
      "BatchNorm_1 (TimeDistributed)   (None, 40, 172, 172, 12          input_1[0][0]                    \n",
      "__________________________________________________________________________________________________\n",
      "Conv_1a (TimeDistributed)       (None, 40, 43, 43, 3 4736        BatchNorm_1[0][0]                \n",
      "__________________________________________________________________________________________________\n",
      "Conv_1b (TimeDistributed)       (None, 40, 43, 43, 3 9248        Conv_1a[0][0]                    \n",
      "__________________________________________________________________________________________________\n",
      "Pool_1 (TimeDistributed)        (None, 40, 21, 21, 3 0           Conv_1b[0][0]                    \n",
      "__________________________________________________________________________________________________\n",
      "Dropout_a (TimeDistributed)     (None, 40, 21, 21, 3 0           Pool_1[0][0]                     \n",
      "__________________________________________________________________________________________________\n",
      "Conv_2a (TimeDistributed)       (None, 40, 21, 21, 3 9248        Dropout_a[0][0]                  \n",
      "__________________________________________________________________________________________________\n",
      "Pool_2 (TimeDistributed)        (None, 40, 10, 10, 3 0           Conv_2a[0][0]                    \n",
      "__________________________________________________________________________________________________\n",
      "Dropout_b (TimeDistributed)     (None, 40, 10, 10, 3 0           Pool_2[0][0]                     \n",
      "__________________________________________________________________________________________________\n",
      "Conv_3a (TimeDistributed)       (None, 40, 8, 8, 32) 9248        Dropout_b[0][0]                  \n",
      "__________________________________________________________________________________________________\n",
      "Pool_3 (TimeDistributed)        (None, 40, 4, 4, 32) 0           Conv_3a[0][0]                    \n",
      "__________________________________________________________________________________________________\n",
      "Conv_1x1 (TimeDistributed)      (None, 40, 4, 4, 8)  264         Pool_3[0][0]                     \n",
      "__________________________________________________________________________________________________\n",
      "Flatten (TimeDistributed)       (None, 40, 128)      0           Conv_1x1[0][0]                   \n",
      "__________________________________________________________________________________________________\n",
      "Dropout_c (TimeDistributed)     (None, 40, 128)      0           Flatten[0][0]                    \n",
      "__________________________________________________________________________________________________\n",
      "Conv1Da (Conv1D)                (None, 34, 64)       32832       Dropout_c[0][0]                  \n",
      "__________________________________________________________________________________________________\n",
      "Conv1Db (Conv1D)                (None, 26, 48)       9264        Conv1Da[0][0]                    \n",
      "__________________________________________________________________________________________________\n",
      "Conv1Dc (Conv1D)                (None, 18, 32)       4640        Conv1Db[0][0]                    \n",
      "__________________________________________________________________________________________________\n",
      "Extractoutput (Lambda)          (None, 32)           0           Conv1Dc[0][0]                    \n",
      "__________________________________________________________________________________________________\n",
      "Output (Dense)                  (None, 9)            297         Extractoutput[0][0]              \n",
      "__________________________________________________________________________________________________\n",
      "time_distributed_1 (TimeDistrib (None, 40, 9)        1161        Dropout_c[0][0]                  \n",
      "==================================================================================================\n",
      "Total params: 80,950\n",
      "Trainable params: 80,944\n",
      "Non-trainable params: 6\n",
      "__________________________________________________________________________________________________\n"
     ]
    }
   ],
   "source": [
    "dcnn.summary()"
   ]
  },
  {
   "cell_type": "code",
   "execution_count": 7,
   "metadata": {
    "collapsed": true
   },
   "outputs": [],
   "source": [
    "dcnn.compile(loss=['categorical_crossentropy', 'categorical_crossentropy'], loss_weights=[1, 0.6],\n",
    "        metrics=['accuracy'],\n",
    "        optimizer='adam')"
   ]
  },
  {
   "cell_type": "markdown",
   "metadata": {},
   "source": [
    "## DATASET"
   ]
  },
  {
   "cell_type": "code",
   "execution_count": 10,
   "metadata": {},
   "outputs": [
    {
     "data": {
      "text/plain": [
       "((340, 40, 172, 172, 3), (22,), (340,), (22,))"
      ]
     },
     "execution_count": 10,
     "metadata": {},
     "output_type": "execute_result"
    }
   ],
   "source": [
    "X_train.shape, X_test.shape,Y_train.shape, Y_test.shape"
   ]
  },
  {
   "cell_type": "code",
   "execution_count": 11,
   "metadata": {
    "collapsed": true
   },
   "outputs": [],
   "source": [
    "X_train, Y_train = permute(X_train, Y_train)\n",
    "Y_train = convert_to_one_hot(Y_train,9)"
   ]
  },
  {
   "cell_type": "code",
   "execution_count": 12,
   "metadata": {
    "collapsed": true
   },
   "outputs": [],
   "source": [
    "Y_train2 = np.tile(Y_train, (40, 1, 1))\n",
    "Y_train2 = Y_train2.transpose(1, 0, 2)"
   ]
  },
  {
   "cell_type": "code",
   "execution_count": 13,
   "metadata": {},
   "outputs": [
    {
     "data": {
      "text/plain": [
       "array([0, 0, 0, 1, 1, 2, 2, 3, 3, 4, 4, 4, 5, 5, 6, 6, 7, 7, 7, 8, 8, 8])"
      ]
     },
     "execution_count": 13,
     "metadata": {},
     "output_type": "execute_result"
    }
   ],
   "source": [
    "Y_test"
   ]
  },
  {
   "cell_type": "markdown",
   "metadata": {},
   "source": [
    "## TRAINING"
   ]
  },
  {
   "cell_type": "code",
   "execution_count": 16,
   "metadata": {},
   "outputs": [
    {
     "name": "stdout",
     "output_type": "stream",
     "text": [
      "Train on 306 samples, validate on 34 samples\n",
      "Epoch 1/2\n",
      "306/306 [==============================] - 149s 486ms/step - loss: 0.8307 - Output_loss: 0.1621 - time_distributed_3_loss: 1.1144 - Output_acc: 0.9412 - time_distributed_3_acc: 0.5799 - val_loss: 0.5596 - val_Output_loss: 0.1095 - val_time_distributed_3_loss: 0.7502 - val_Output_acc: 0.9706 - val_time_distributed_3_acc: 0.8309\n",
      "Epoch 2/2\n",
      "306/306 [==============================] - 162s 530ms/step - loss: 0.7857 - Output_loss: 0.1339 - time_distributed_3_loss: 1.0864 - Output_acc: 0.9641 - time_distributed_3_acc: 0.5955 - val_loss: 0.5360 - val_Output_loss: 0.1041 - val_time_distributed_3_loss: 0.7198 - val_Output_acc: 0.9706 - val_time_distributed_3_acc: 0.8404\n"
     ]
    }
   ],
   "source": [
    "#filepath=\"weights-improvement-{epoch:02d}-{val_acc:.2f}.hdf5\"\n",
    "#checkpoint = ModelCheckpoint(filepath, monitor='val_acc', verbose=1, save_weights_only = False, save_best_only = False, mode='auto',period=1)\n",
    "dcnn = load_model('temp_11.h5')\n",
    "for i in range(1):\n",
    "    dcnn.fit(X_train, [Y_train,Y_train2] , batch_size=64, epochs=2 , validation_split=0.1)\n",
    "    dcnn.save('temp_'+ str(i+12) + '.h5')"
   ]
  },
  {
   "cell_type": "markdown",
   "metadata": {},
   "source": [
    "## TESTING"
   ]
  },
  {
   "cell_type": "code",
   "execution_count": 19,
   "metadata": {
    "collapsed": true
   },
   "outputs": [],
   "source": [
    "dcnn = load_model('temp_12.h5')"
   ]
  },
  {
   "cell_type": "code",
   "execution_count": 20,
   "metadata": {},
   "outputs": [
    {
     "name": "stdout",
     "output_type": "stream",
     "text": [
      "Confusion Matrix\n",
      "[[3 0 0 0 0 0 0 0 0]\n",
      " [0 0 2 0 0 0 0 0 0]\n",
      " [0 1 1 0 0 0 0 0 0]\n",
      " [0 0 1 1 0 0 0 0 0]\n",
      " [0 0 0 0 3 0 0 0 0]\n",
      " [0 0 0 0 0 2 0 0 0]\n",
      " [0 0 0 0 0 1 1 0 0]\n",
      " [0 2 0 0 0 0 0 1 0]\n",
      " [0 0 0 0 0 1 0 1 1]]\n"
     ]
    },
    {
     "data": {
      "text/plain": [
       "59.09090909090909"
      ]
     },
     "execution_count": 20,
     "metadata": {},
     "output_type": "execute_result"
    }
   ],
   "source": [
    "evaluate(dcnn, X_test, Y_test, verbose = False)"
   ]
  },
  {
   "cell_type": "code",
   "execution_count": 22,
   "metadata": {},
   "outputs": [
    {
     "ename": "NameError",
     "evalue": "name 'X_train' is not defined",
     "output_type": "error",
     "traceback": [
      "\u001b[0;31m---------------------------------------------------------------------------\u001b[0m",
      "\u001b[0;31mNameError\u001b[0m                                 Traceback (most recent call last)",
      "\u001b[0;32m<ipython-input-22-7ee3267ade4a>\u001b[0m in \u001b[0;36m<module>\u001b[0;34m()\u001b[0m\n\u001b[0;32m----> 1\u001b[0;31m \u001b[0;32mdel\u001b[0m \u001b[0mX_train\u001b[0m\u001b[0;34m\u001b[0m\u001b[0m\n\u001b[0m\u001b[1;32m      2\u001b[0m \u001b[0;32mdel\u001b[0m \u001b[0mY_train\u001b[0m\u001b[0;34m\u001b[0m\u001b[0m\n",
      "\u001b[0;31mNameError\u001b[0m: name 'X_train' is not defined"
     ]
    }
   ],
   "source": [
    "del X_train\n",
    "del Y_train"
   ]
  },
  {
   "cell_type": "code",
   "execution_count": null,
   "metadata": {
    "collapsed": true
   },
   "outputs": [],
   "source": []
  },
  {
   "cell_type": "code",
   "execution_count": 22,
   "metadata": {},
   "outputs": [
    {
     "name": "stdout",
     "output_type": "stream",
     "text": [
      "Confusion Matrix\n",
      "[[16  0  0  0  0  0  0  0  0]\n",
      " [ 0  8  2  0  0  0  0  0  0]\n",
      " [ 0  1  8  0  0  0  0  0  0]\n",
      " [ 0  0  1  9  0  0  0  0  0]\n",
      " [ 0  0  0  0 14  3  0  0  0]\n",
      " [ 0  0  0  0  0  5  0  0  0]\n",
      " [ 0  0  0  0  0  3  8  0  0]\n",
      " [ 0  2  0  0  0  0  0 17  0]\n",
      " [ 0  0  0  0  0  1  0  1 12]]\n"
     ]
    },
    {
     "data": {
      "text/plain": [
       "87.38738738738738"
      ]
     },
     "execution_count": 22,
     "metadata": {},
     "output_type": "execute_result"
    }
   ],
   "source": [
    "evaluate(dcnn, X_test_full, Y_test_full, verbose = False)"
   ]
  },
  {
   "cell_type": "code",
   "execution_count": null,
   "metadata": {
    "collapsed": true
   },
   "outputs": [],
   "source": []
  },
  {
   "cell_type": "code",
   "execution_count": 25,
   "metadata": {},
   "outputs": [
    {
     "name": "stdout",
     "output_type": "stream",
     "text": [
      "Confusion Matrix\n",
      "[[3 0 0 0 0 1 0 0 0]\n",
      " [0 1 1 0 0 0 0 0 0]\n",
      " [0 0 0 0 0 0 0 1 0]\n",
      " [0 0 1 1 0 0 0 0 0]\n",
      " [0 0 0 0 1 2 0 0 0]\n",
      " [0 0 0 0 0 1 0 0 0]\n",
      " [0 0 0 0 0 1 1 0 0]\n",
      " [0 0 0 0 0 0 0 3 0]\n",
      " [0 0 0 0 0 0 0 0 4]]\n"
     ]
    },
    {
     "data": {
      "text/plain": [
       "68.18181818181817"
      ]
     },
     "execution_count": 25,
     "metadata": {},
     "output_type": "execute_result"
    }
   ],
   "source": [
    "evaluate(dcnn, X_test_unseen, Y_test_unseen, verbose = False)"
   ]
  },
  {
   "cell_type": "code",
   "execution_count": null,
   "metadata": {
    "collapsed": true
   },
   "outputs": [],
   "source": []
  }
 ],
 "metadata": {
  "kernelspec": {
   "display_name": "Python [conda env:keras_gpu_tensorflow]",
   "language": "python",
   "name": "conda-env-keras_gpu_tensorflow-py"
  },
  "language_info": {
   "codemirror_mode": {
    "name": "ipython",
    "version": 3
   },
   "file_extension": ".py",
   "mimetype": "text/x-python",
   "name": "python",
   "nbconvert_exporter": "python",
   "pygments_lexer": "ipython3",
   "version": "3.6.4"
  }
 },
 "nbformat": 4,
 "nbformat_minor": 2
}
