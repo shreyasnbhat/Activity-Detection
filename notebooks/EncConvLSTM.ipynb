{
 "cells": [
  {
   "cell_type": "code",
   "execution_count": 16,
   "metadata": {},
   "outputs": [],
   "source": [
    "import matplotlib.pyplot as plt\n",
    "import cv2\n",
    "import numpy as np\n",
    "import os\n",
    "os.environ[\"CUDA_VISIBLE_DEVICES\"]=\"-1\"\n",
    "from keras import backend as K\n",
    "import tensorflow as tf\n",
    "from keras.layers import Conv2D, Dropout, LSTM, BatchNormalization, Input,Activation, MaxPool2D, Flatten, Dense,TimeDistributed\n",
    "from keras.models import Model, load_model\n",
    "from keras.callbacks import ModelCheckpoint, TensorBoard, EarlyStopping\n",
    "from keras.layers.convolutional import ZeroPadding2D\n",
    "from keras import metrics\n",
    "import h5py\n",
    "from sklearn.metrics import confusion_matrix\n",
    "from data_utils import convert_to_one_hot, permute"
   ]
  },
  {
   "cell_type": "code",
   "execution_count": null,
   "metadata": {
    "collapsed": true
   },
   "outputs": [],
   "source": [
    "VIDEOS_DIR, IMAGES_DIR, classes, class_to_index, videos = get_global_variables()\n",
    "print(VIDEOS_DIR)\n",
    "print(IMAGES_DIR)\n",
    "print(classes)\n",
    "print(class_to_index)\n",
    "print(videos)"
   ]
  },
  {
   "cell_type": "code",
   "execution_count": null,
   "metadata": {
    "collapsed": true
   },
   "outputs": [],
   "source": []
  },
  {
   "cell_type": "code",
   "execution_count": null,
   "metadata": {
    "collapsed": true
   },
   "outputs": [],
   "source": [
    "def end_to_end_gpu(input_shape):\n",
    "    X_input = Input(input_shape)\n",
    "    \n",
    "    #with tf.device('/gpu:0'):     \n",
    "    X = TimeDistributed(Conv2D(32, (3, 3), activation='relu', padding = \"same\"), name =\"Conv_2a\")(X_input)\n",
    "    X = TimeDistributed(MaxPool2D((2, 2)), name = \"Pool_2\")(X)\n",
    "    X = TimeDistributed(Dropout(0.2), name= \"Dropout_2\")(X)\n",
    "\n",
    "    X = TimeDistributed(Conv2D(32,(3,3), name='Conv_3a', activation='relu'))(X)\n",
    "    X = TimeDistributed(MaxPool2D((2, 2), name = \"Pool_3\"))(X)\n",
    "    X = TimeDistributed(Dropout(0.2), name = \"Dropout_3\")(X)\n",
    "\n",
    "    X = TimeDistributed(Conv2D(8,(1,1), activation='relu'), name='Conv_1x1')(X)\n",
    "    X = TimeDistributed(Flatten())(X)\n",
    "    X = TimeDistributed(Dropout(0.3))(X)\n",
    "    #Y = TimeDistributed(Dense(9,activation='softmax',name='final'),name='Secondary_Output')(X)\n",
    "\n",
    "    X = LSTM(48, return_sequences=False,dropout=0.3, name = \"LSTM1\")(X)\n",
    "    #X = LSTM(32, return_sequences=False)(X)\n",
    "    X = Dense(9, activation='softmax',name='Primary_Output')(X)\n",
    "\n",
    "    return Model(X_input, outputs=X)\n"
   ]
  },
  {
   "cell_type": "code",
   "execution_count": 2,
   "metadata": {
    "collapsed": true
   },
   "outputs": [],
   "source": [
    "#model = end_to_end_gpu((40, 22, 22, 16))\n",
    "model = load_model('shizz_64_86.h5')"
   ]
  },
  {
   "cell_type": "code",
   "execution_count": 3,
   "metadata": {},
   "outputs": [
    {
     "name": "stdout",
     "output_type": "stream",
     "text": [
      "_________________________________________________________________\n",
      "Layer (type)                 Output Shape              Param #   \n",
      "=================================================================\n",
      "input_1 (InputLayer)         (None, 40, 22, 22, 16)    0         \n",
      "_________________________________________________________________\n",
      "Conv_2a (TimeDistributed)    (None, 40, 22, 22, 32)    4640      \n",
      "_________________________________________________________________\n",
      "Pool_2 (TimeDistributed)     (None, 40, 11, 11, 32)    0         \n",
      "_________________________________________________________________\n",
      "Dropout_2 (TimeDistributed)  (None, 40, 11, 11, 32)    0         \n",
      "_________________________________________________________________\n",
      "time_distributed_1 (TimeDist (None, 40, 9, 9, 32)      9248      \n",
      "_________________________________________________________________\n",
      "time_distributed_2 (TimeDist (None, 40, 4, 4, 32)      0         \n",
      "_________________________________________________________________\n",
      "Dropout_3 (TimeDistributed)  (None, 40, 4, 4, 32)      0         \n",
      "_________________________________________________________________\n",
      "Conv_1x1 (TimeDistributed)   (None, 40, 4, 4, 8)       264       \n",
      "_________________________________________________________________\n",
      "time_distributed_3 (TimeDist (None, 40, 128)           0         \n",
      "_________________________________________________________________\n",
      "time_distributed_4 (TimeDist (None, 40, 128)           0         \n",
      "_________________________________________________________________\n",
      "LSTM1 (LSTM)                 (None, 48)                33984     \n",
      "_________________________________________________________________\n",
      "Primary_Output (Dense)       (None, 9)                 441       \n",
      "=================================================================\n",
      "Total params: 48,577\n",
      "Trainable params: 48,577\n",
      "Non-trainable params: 0\n",
      "_________________________________________________________________\n"
     ]
    }
   ],
   "source": [
    "model.summary()"
   ]
  },
  {
   "cell_type": "code",
   "execution_count": 4,
   "metadata": {
    "collapsed": true
   },
   "outputs": [],
   "source": [
    "image_size=(172, 172)\n",
    "max_len = 40\n",
    "stride = 10\n",
    "X_train = np.load('X_encoded.npy')\n",
    "Y_train = np.load('../Numpy/End2End/Y_train_(172, 172)_40_10.npy')\n",
    "X_test = np.load('X_test_encoded.npy')\n",
    "Y_test = np.load('../Numpy/End2End/Y_test_(128, 128)_40_10.npy')\n",
    "X_test_unseen = np.load('X_test_unseen_encoded.npy')\n",
    "Y_test_unseen = np.load('../Numpy/End2End/Y_test_unseen_(172, 172)_40_10.npy')"
   ]
  },
  {
   "cell_type": "code",
   "execution_count": null,
   "metadata": {
    "collapsed": true
   },
   "outputs": [],
   "source": [
    "model.compile(loss='categorical_crossentropy',\n",
    "        metrics=['accuracy'],\n",
    "        optimizer='adam')"
   ]
  },
  {
   "cell_type": "code",
   "execution_count": 14,
   "metadata": {},
   "outputs": [],
   "source": [
    "Y_train = convert_to_one_hot(Y_train, 9)"
   ]
  },
  {
   "cell_type": "code",
   "execution_count": 17,
   "metadata": {},
   "outputs": [],
   "source": [
    "X_train, Y_train = permute(X_train, Y_train)"
   ]
  },
  {
   "cell_type": "code",
   "execution_count": 25,
   "metadata": {},
   "outputs": [
    {
     "name": "stdout",
     "output_type": "stream",
     "text": [
      "Train on 582 samples, validate on 65 samples\n",
      "Epoch 1/10\n",
      "582/582 [==============================] - 28s 47ms/step - loss: 0.0540 - acc: 0.9914 - val_loss: 0.0170 - val_acc: 1.0000\n",
      "Epoch 2/10\n",
      "582/582 [==============================] - 31s 53ms/step - loss: 0.0499 - acc: 0.9897 - val_loss: 0.0190 - val_acc: 1.0000\n",
      "Epoch 3/10\n",
      "582/582 [==============================] - 36s 62ms/step - loss: 0.0543 - acc: 0.9914 - val_loss: 0.0169 - val_acc: 1.0000\n",
      "Epoch 4/10\n",
      "582/582 [==============================] - 36s 61ms/step - loss: 0.0883 - acc: 0.9794 - val_loss: 0.0147 - val_acc: 1.0000\n",
      "Epoch 5/10\n",
      "582/582 [==============================] - 36s 62ms/step - loss: 0.0507 - acc: 0.9897 - val_loss: 0.0141 - val_acc: 1.0000\n",
      "Epoch 6/10\n",
      "582/582 [==============================] - 28s 49ms/step - loss: 0.0474 - acc: 0.9931 - val_loss: 0.0139 - val_acc: 1.0000\n",
      "Epoch 7/10\n",
      "582/582 [==============================] - 27s 47ms/step - loss: 0.0591 - acc: 0.9914 - val_loss: 0.0156 - val_acc: 1.0000\n",
      "Epoch 8/10\n",
      "582/582 [==============================] - 27s 47ms/step - loss: 0.0473 - acc: 0.9914 - val_loss: 0.0163 - val_acc: 1.0000\n",
      "Epoch 9/10\n",
      "582/582 [==============================] - 31s 53ms/step - loss: 0.0460 - acc: 0.9931 - val_loss: 0.0149 - val_acc: 1.0000\n",
      "Epoch 10/10\n",
      "582/582 [==============================] - 28s 48ms/step - loss: 0.0523 - acc: 0.9914 - val_loss: 0.0138 - val_acc: 1.0000\n"
     ]
    },
    {
     "data": {
      "text/plain": [
       "<keras.callbacks.History at 0x7fe491975e10>"
      ]
     },
     "execution_count": 25,
     "metadata": {},
     "output_type": "execute_result"
    }
   ],
   "source": [
    "model.fit(X_train, Y_train, epochs=10, batch_size=120, validation_split=0.1)"
   ]
  },
  {
   "cell_type": "code",
   "execution_count": 24,
   "metadata": {
    "collapsed": true
   },
   "outputs": [],
   "source": [
    "model.save('shizz_69_86.h5')"
   ]
  },
  {
   "cell_type": "code",
   "execution_count": 6,
   "metadata": {
    "collapsed": true
   },
   "outputs": [],
   "source": [
    "encoder = load_model('encoder.h5')\n",
    "get_encoding = K.function([encoder.layers[0].input],\n",
    "                                  [encoder.layers[6].output])\n",
    "def encode(X):\n",
    "    X = X.astype('float32') / 255.    \n",
    "    return get_encoding([X])[0]\n",
    "\n",
    "def predict(model,X,verbose=True):\n",
    "    pred = model.predict(X)\n",
    "    max_pred = [np.argmax(i) for i in pred]\n",
    "    if verbose:\n",
    "        print(\"Max Preds time\", max_pred)\n",
    "    counts = np.bincount(max_pred)\n",
    "    class_pred = np.argmax(counts)\n",
    "    return class_pred\n",
    "\n",
    "def evaluate(model, X_test,Y_test,verbose = True):\n",
    "    count = 0\n",
    "    preds = []\n",
    "    for i in range(len(X_test)):\n",
    "        class_pred = predict(model,X_test[i],verbose=verbose)\n",
    "        preds.append(class_pred)\n",
    "        actual = Y_test[i]\n",
    "        if verbose:\n",
    "            print(\"Pred\",classes[class_pred],\"Actual\",classes[actual])\n",
    "            print()\n",
    "        if class_pred == actual:\n",
    "            count += 1\n",
    "    if verbose:\n",
    "        print(\"Confusion Matrix\")\n",
    "        print(confusion_matrix(Y_test,preds))\n",
    "    return float(count)/float(len(Y_test)) * 100.0"
   ]
  },
  {
   "cell_type": "code",
   "execution_count": null,
   "metadata": {
    "collapsed": true
   },
   "outputs": [],
   "source": [
    "X_test[0].shape"
   ]
  },
  {
   "cell_type": "code",
   "execution_count": 26,
   "metadata": {},
   "outputs": [
    {
     "name": "stdout",
     "output_type": "stream",
     "text": [
      "Max Preds time [0]\n",
      "Pred Kicking Actual Kicking\n",
      "\n",
      "Max Preds time [0]\n",
      "Pred Kicking Actual Kicking\n",
      "\n",
      "Max Preds time [0]\n",
      "Pred Kicking Actual Kicking\n",
      "\n",
      "Max Preds time [0]\n",
      "Pred Kicking Actual Kicking\n",
      "\n",
      "Max Preds time [0]\n",
      "Pred Kicking Actual Kicking\n",
      "\n",
      "Max Preds time [0]\n",
      "Pred Kicking Actual Kicking\n",
      "\n",
      "Max Preds time [7]\n",
      "Pred Walking Actual Riding-Horse\n",
      "\n",
      "Max Preds time [1, 1, 1]\n",
      "Pred Riding-Horse Actual Riding-Horse\n",
      "\n",
      "Max Preds time [3]\n",
      "Pred SkateBoarding Actual Riding-Horse\n",
      "\n",
      "Max Preds time [4, 4, 4]\n",
      "Pred Swing-Bench Actual Riding-Horse\n",
      "\n",
      "Max Preds time [7, 7, 7, 7]\n",
      "Pred Walking Actual Running\n",
      "\n",
      "Max Preds time [7, 7, 7, 7]\n",
      "Pred Walking Actual Running\n",
      "\n",
      "Max Preds time [7, 7, 8, 7]\n",
      "Pred Walking Actual Running\n",
      "\n",
      "Max Preds time [2, 2, 2, 2]\n",
      "Pred Running Actual Running\n",
      "\n",
      "Max Preds time [1, 1, 8, 8]\n",
      "Pred Riding-Horse Actual SkateBoarding\n",
      "\n",
      "Max Preds time [2, 6, 6, 2]\n",
      "Pred Running Actual SkateBoarding\n",
      "\n",
      "Max Preds time [3, 3, 2, 2]\n",
      "Pred Running Actual SkateBoarding\n",
      "\n",
      "Max Preds time [2, 2, 2, 2]\n",
      "Pred Running Actual SkateBoarding\n",
      "\n",
      "Max Preds time [4, 4]\n",
      "Pred Swing-Bench Actual Swing-Bench\n",
      "\n",
      "Max Preds time [4, 4]\n",
      "Pred Swing-Bench Actual Swing-Bench\n",
      "\n",
      "Max Preds time [4, 4]\n",
      "Pred Swing-Bench Actual Swing-Bench\n",
      "\n",
      "Max Preds time [4, 4]\n",
      "Pred Swing-Bench Actual Swing-Bench\n",
      "\n",
      "Max Preds time [4, 4]\n",
      "Pred Swing-Bench Actual Swing-Bench\n",
      "\n",
      "Max Preds time [4, 4]\n",
      "Pred Swing-Bench Actual Swing-Bench\n",
      "\n",
      "Max Preds time [5, 5, 5, 5, 5, 5, 5, 5, 5, 5]\n",
      "Pred Lifting Actual Lifting\n",
      "\n",
      "Max Preds time [5, 5, 5, 5, 5, 5, 5, 5, 5, 5]\n",
      "Pred Lifting Actual Lifting\n",
      "\n",
      "Max Preds time [0]\n",
      "Pred Kicking Actual Swing-Side\n",
      "\n",
      "Max Preds time [6, 6, 6, 6, 6]\n",
      "Pred Swing-Side Actual Swing-Side\n",
      "\n",
      "Max Preds time [6, 6, 6, 6, 6]\n",
      "Pred Swing-Side Actual Swing-Side\n",
      "\n",
      "Max Preds time [6, 6, 6, 6, 6]\n",
      "Pred Swing-Side Actual Swing-Side\n",
      "\n",
      "Max Preds time [7, 7, 7]\n",
      "Pred Walking Actual Walking\n",
      "\n",
      "Max Preds time [7, 7, 7, 7, 7, 7, 7, 7]\n",
      "Pred Walking Actual Walking\n",
      "\n",
      "Max Preds time [7, 7, 7, 7, 7, 7, 7, 7]\n",
      "Pred Walking Actual Walking\n",
      "\n",
      "Max Preds time [8, 7, 7, 8, 8, 8, 8, 0]\n",
      "Pred Golf-Swing Actual Walking\n",
      "\n",
      "Max Preds time [1, 1, 1, 1, 1, 1, 1, 0]\n",
      "Pred Riding-Horse Actual Walking\n",
      "\n",
      "Max Preds time [8, 2, 2, 2, 2, 8, 8, 2]\n",
      "Pred Running Actual Walking\n",
      "\n",
      "Max Preds time [8, 8, 8]\n",
      "Pred Golf-Swing Actual Golf-Swing\n",
      "\n",
      "Max Preds time [8, 8, 8]\n",
      "Pred Golf-Swing Actual Golf-Swing\n",
      "\n",
      "Max Preds time [0]\n",
      "Pred Kicking Actual Golf-Swing\n",
      "\n",
      "Max Preds time [8, 8, 8]\n",
      "Pred Golf-Swing Actual Golf-Swing\n",
      "\n",
      "Max Preds time [8, 8, 8]\n",
      "Pred Golf-Swing Actual Golf-Swing\n",
      "\n",
      "Max Preds time [8, 8, 8]\n",
      "Pred Golf-Swing Actual Golf-Swing\n",
      "\n",
      "Confusion Matrix\n",
      "[[6 0 0 0 0 0 0 0 0]\n",
      " [0 1 0 1 1 0 0 1 0]\n",
      " [0 0 1 0 0 0 0 3 0]\n",
      " [0 1 3 0 0 0 0 0 0]\n",
      " [0 0 0 0 6 0 0 0 0]\n",
      " [0 0 0 0 0 2 0 0 0]\n",
      " [1 0 0 0 0 0 3 0 0]\n",
      " [0 1 1 0 0 0 0 3 1]\n",
      " [1 0 0 0 0 0 0 0 5]]\n"
     ]
    },
    {
     "data": {
      "text/plain": [
       "64.28571428571429"
      ]
     },
     "execution_count": 26,
     "metadata": {},
     "output_type": "execute_result"
    }
   ],
   "source": [
    "evaluate(model, X_test, Y_test, verbose=True)"
   ]
  },
  {
   "cell_type": "code",
   "execution_count": 27,
   "metadata": {
    "scrolled": true
   },
   "outputs": [
    {
     "name": "stdout",
     "output_type": "stream",
     "text": [
      "Max Preds time [0]\n",
      "Pred Kicking Actual Kicking\n",
      "\n",
      "Max Preds time [0]\n",
      "Pred Kicking Actual Kicking\n",
      "\n",
      "Max Preds time [7]\n",
      "Pred Walking Actual Kicking\n",
      "\n",
      "Max Preds time [0]\n",
      "Pred Kicking Actual Kicking\n",
      "\n",
      "Max Preds time [1, 1, 1]\n",
      "Pred Riding-Horse Actual Riding-Horse\n",
      "\n",
      "Max Preds time [7]\n",
      "Pred Walking Actual Riding-Horse\n",
      "\n",
      "Max Preds time [8, 8, 7, 0]\n",
      "Pred Golf-Swing Actual Running\n",
      "\n",
      "Max Preds time [3, 3, 3, 3]\n",
      "Pred SkateBoarding Actual SkateBoarding\n",
      "\n",
      "Max Preds time [3, 3, 3, 3]\n",
      "Pred SkateBoarding Actual SkateBoarding\n",
      "\n",
      "Max Preds time [4, 4]\n",
      "Pred Swing-Bench Actual Swing-Bench\n",
      "\n",
      "Max Preds time [4, 4]\n",
      "Pred Swing-Bench Actual Swing-Bench\n",
      "\n",
      "Max Preds time [4, 4]\n",
      "Pred Swing-Bench Actual Swing-Bench\n",
      "\n",
      "Max Preds time [5, 5, 5, 5, 5, 5, 5, 5, 5, 5]\n",
      "Pred Lifting Actual Lifting\n",
      "\n",
      "Max Preds time [6, 6, 6, 6, 6]\n",
      "Pred Swing-Side Actual Swing-Side\n",
      "\n",
      "Max Preds time [6]\n",
      "Pred Swing-Side Actual Swing-Side\n",
      "\n",
      "Max Preds time [7, 7, 7, 7, 7, 7, 7, 7]\n",
      "Pred Walking Actual Walking\n",
      "\n",
      "Max Preds time [7, 7, 7, 7, 7]\n",
      "Pred Walking Actual Walking\n",
      "\n",
      "Max Preds time [7, 7, 7, 7, 7, 7, 7, 7]\n",
      "Pred Walking Actual Walking\n",
      "\n",
      "Max Preds time [8, 8, 8]\n",
      "Pred Golf-Swing Actual Golf-Swing\n",
      "\n",
      "Max Preds time [8, 8, 8]\n",
      "Pred Golf-Swing Actual Golf-Swing\n",
      "\n",
      "Max Preds time [8, 8, 8]\n",
      "Pred Golf-Swing Actual Golf-Swing\n",
      "\n",
      "Max Preds time [8, 8, 8]\n",
      "Pred Golf-Swing Actual Golf-Swing\n",
      "\n",
      "Confusion Matrix\n",
      "[[3 0 0 0 0 0 0 1 0]\n",
      " [0 1 0 0 0 0 0 1 0]\n",
      " [0 0 0 0 0 0 0 0 1]\n",
      " [0 0 0 2 0 0 0 0 0]\n",
      " [0 0 0 0 3 0 0 0 0]\n",
      " [0 0 0 0 0 1 0 0 0]\n",
      " [0 0 0 0 0 0 2 0 0]\n",
      " [0 0 0 0 0 0 0 3 0]\n",
      " [0 0 0 0 0 0 0 0 4]]\n"
     ]
    },
    {
     "data": {
      "text/plain": [
       "86.36363636363636"
      ]
     },
     "execution_count": 27,
     "metadata": {},
     "output_type": "execute_result"
    }
   ],
   "source": [
    "evaluate(model, X_test_unseen, Y_test_unseen, verbose=True)"
   ]
  },
  {
   "cell_type": "code",
   "execution_count": null,
   "metadata": {
    "collapsed": true
   },
   "outputs": [],
   "source": [
    "import time\n",
    "start = time.time()\n",
    "X_encoded = []\n",
    "for i in range(len(X_test_unseen)):\n",
    "    X_video = []\n",
    "    for j in range(len(X_test_unseen[i])):\n",
    "        X_video.append(encode(X_test_unseen[i][j]))\n",
    "    X_video = np.array(X_video)\n",
    "    print(X_video.shape)\n",
    "    X_encoded.append(X_video)\n",
    "print(time.time() - start)"
   ]
  },
  {
   "cell_type": "code",
   "execution_count": null,
   "metadata": {
    "collapsed": true
   },
   "outputs": [],
   "source": []
  },
  {
   "cell_type": "code",
   "execution_count": null,
   "metadata": {
    "collapsed": true
   },
   "outputs": [],
   "source": []
  },
  {
   "cell_type": "code",
   "execution_count": null,
   "metadata": {
    "collapsed": true
   },
   "outputs": [],
   "source": []
  }
 ],
 "metadata": {
  "kernelspec": {
   "display_name": "Python [conda env:keras_gpu_tensorflow]",
   "language": "python",
   "name": "conda-env-keras_gpu_tensorflow-py"
  },
  "language_info": {
   "codemirror_mode": {
    "name": "ipython",
    "version": 3
   },
   "file_extension": ".py",
   "mimetype": "text/x-python",
   "name": "python",
   "nbconvert_exporter": "python",
   "pygments_lexer": "ipython3",
   "version": "3.6.4"
  }
 },
 "nbformat": 4,
 "nbformat_minor": 2
}
