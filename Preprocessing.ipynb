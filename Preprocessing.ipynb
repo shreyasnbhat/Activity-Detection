{
 "cells": [
  {
   "cell_type": "code",
   "execution_count": 1,
   "metadata": {
    "collapsed": true
   },
   "outputs": [],
   "source": [
    "import matplotlib.pyplot as plt\n",
    "%matplotlib inline\n",
    "import cv2\n",
    "import numpy as np"
   ]
  },
  {
   "cell_type": "code",
   "execution_count": 100,
   "metadata": {},
   "outputs": [],
   "source": [
    "from keras import backend as K\n",
    "from keras.layers import Conv2D, Dropout, BatchNormalization, Input, MaxPool2D, Flatten, Dense\n",
    "from keras.models import Model, load_model\n",
    "from keras import metrics "
   ]
  },
  {
   "cell_type": "markdown",
   "metadata": {},
   "source": [
    "!find ./Videos/NNFL_Training_Set/ -not -name '*.avi' -delete\n"
   ]
  },
  {
   "cell_type": "code",
   "execution_count": 2,
   "metadata": {
    "collapsed": true
   },
   "outputs": [],
   "source": [
    "VIDEOS_DIR = './Videos/'\n",
    "IMAGES_DIR = './Images/'"
   ]
  },
  {
   "cell_type": "code",
   "execution_count": 3,
   "metadata": {},
   "outputs": [
    {
     "name": "stdout",
     "output_type": "stream",
     "text": [
      "['Lifting', 'SkateBoarding', 'Swing-Bench', 'Swing-Side', 'Kicking', 'Running', 'Golf-Swing', 'Riding-Horse', 'Walking']\n"
     ]
    }
   ],
   "source": [
    "import os\n",
    "classes = list(os.listdir(VIDEOS_DIR))\n",
    "print(classes)"
   ]
  },
  {
   "cell_type": "code",
   "execution_count": 4,
   "metadata": {},
   "outputs": [
    {
     "data": {
      "text/plain": [
       "{'Golf-Swing': 6,\n",
       " 'Kicking': 4,\n",
       " 'Lifting': 0,\n",
       " 'Riding-Horse': 7,\n",
       " 'Running': 5,\n",
       " 'SkateBoarding': 1,\n",
       " 'Swing-Bench': 2,\n",
       " 'Swing-Side': 3,\n",
       " 'Walking': 8}"
      ]
     },
     "execution_count": 4,
     "metadata": {},
     "output_type": "execute_result"
    }
   ],
   "source": [
    "class_to_index = {}\n",
    "for i in range(len(classes)):\n",
    "    class_to_index[classes[i]] = i\n",
    "class_to_index"
   ]
  },
  {
   "cell_type": "code",
   "execution_count": 5,
   "metadata": {},
   "outputs": [
    {
     "name": "stdout",
     "output_type": "stream",
     "text": [
      "[['005', '003', '004', '001', '002'], ['009', '005', '010', '003', '006', '004', '001', '007', '008', '002'], ['014', '009', '005', '011', '010', '003', '012', '006', '013', '004', '016', '001', '007', '008', '002', '017', '015'], ['009', '005', '011', '010', '003', '006', '004', '001', '007', '008', '002'], ['014', '009', '005', '011', '010', '003', '012', '006', '013', '004', '016', '001', '007', '002', '017', '015'], ['009', '005', '010', '006', '004', '001', '007', '008', '002'], ['014', '009', '005', '011', '010', '003', '012', '006', '013', '004', '001', '007', '008', '002'], ['009', '005', '010', '003', '006', '004', '001', '007', '008', '002'], ['014', '009', '005', '011', '010', '018', '003', '012', '006', '013', '004', '016', '001', '019', '007', '008', '002', '017', '015']]\n"
     ]
    }
   ],
   "source": [
    "videos = []\n",
    "for x in classes:\n",
    "    videos.append(list(os.listdir(VIDEOS_DIR+x+'/')))\n",
    "print(videos)"
   ]
  },
  {
   "cell_type": "code",
   "execution_count": 6,
   "metadata": {
    "collapsed": true
   },
   "outputs": [],
   "source": [
    "# Using default 10 images per second\n",
    "def convert_videos_to_images(video_path, image_path):\n",
    "    print(video_path)\n",
    "    cap = cv2.VideoCapture(video_path)\n",
    "\n",
    "    # Check if video opened successfully\n",
    "    if (cap.isOpened()== False): \n",
    "        print(\"Error opening video stream or file\")\n",
    "    count = 0\n",
    "    \n",
    "    while(cap.isOpened()):\n",
    "        # Capture frame-by-frame\n",
    "        ret, frame = cap.read()\n",
    "\n",
    "        if ret == True:\n",
    "            count += 1\n",
    "            name = \"{0:0=3d}\".format(count)\n",
    "            cv2.imwrite(image_path+name+'.png', frame) \n",
    "        else: \n",
    "            break\n",
    "\n",
    "    # When everything done, release the video capture object\n",
    "    cap.release()\n",
    "\n",
    "    print(count)"
   ]
  },
  {
   "cell_type": "code",
   "execution_count": 7,
   "metadata": {},
   "outputs": [
    {
     "name": "stdout",
     "output_type": "stream",
     "text": [
      "./Videos/Lifting/005/3528-10_70424.avi\n",
      "127\n",
      "./Videos/Lifting/003/3528-6_70(2)268.avi\n",
      "123\n",
      "./Videos/Lifting/004/3528-6_70270.avi\n",
      "122\n",
      "./Videos/Lifting/001/3528-8_70514.avi\n",
      "113\n",
      "./Videos/Lifting/002/2502-2_70340.avi\n",
      "111\n",
      "./Videos/SkateBoarding/009/947-58108.avi\n",
      "70\n",
      "./Videos/SkateBoarding/005/860-2001.avi\n",
      "70\n",
      "./Videos/SkateBoarding/010/947-70005.avi\n",
      "70\n",
      "./Videos/SkateBoarding/003/711-66044.avi\n",
      "70\n",
      "./Videos/SkateBoarding/006/860-2729.avi\n",
      "70\n",
      "./Videos/SkateBoarding/004/761-39000.avi\n",
      "70\n",
      "./Videos/SkateBoarding/001/708-75070.avi\n",
      "70\n",
      "./Videos/SkateBoarding/007/860-37150.avi\n",
      "70\n",
      "./Videos/SkateBoarding/008/860-38064.avi\n",
      "70\n",
      "./Videos/SkateBoarding/002/708-77009.avi\n",
      "70\n",
      "./Videos/Swing-Bench/014/2527-12_70526.avi\n",
      "50\n",
      "./Videos/Swing-Bench/009/2527-9_70087.avi\n",
      "50\n",
      "./Videos/Swing-Bench/005/669-67178.avi\n",
      "50\n",
      "./Videos/Swing-Bench/011/2527-12_70137.avi\n",
      "50\n",
      "./Videos/Swing-Bench/010/2527-9_70267.avi\n",
      "50\n",
      "./Videos/Swing-Bench/003/669-60220.avi\n",
      "50\n",
      "./Videos/Swing-Bench/012/2527-12_70186.avi\n",
      "50\n",
      "./Videos/Swing-Bench/006/2527-5_70020.avi\n",
      "50\n",
      "./Videos/Swing-Bench/013/2527-12_70461.avi\n",
      "50\n",
      "./Videos/Swing-Bench/004/669-67070.avi\n",
      "50\n",
      "./Videos/Swing-Bench/016/2527-12_70641.avi\n",
      "50\n",
      "./Videos/Swing-Bench/001/669-60084.avi\n",
      "50\n",
      "./Videos/Swing-Bench/007/2527-5_70114.avi\n",
      "50\n",
      "./Videos/Swing-Bench/008/2527-9_70018.avi\n",
      "50\n",
      "./Videos/Swing-Bench/002/669-60176.avi\n",
      "50\n",
      "./Videos/Swing-Bench/017/4379-9_70018.avi\n",
      "50\n",
      "./Videos/Swing-Bench/015/2527-12_70574.avi\n",
      "50\n",
      "./Videos/Swing-Side/009/vid1_0377.avi\n",
      "75\n",
      "./Videos/Swing-Side/005/vid8_0500.avi\n",
      "4\n",
      "./Videos/Swing-Side/011/vid1_0855.avi\n",
      "75\n",
      "./Videos/Swing-Side/010/vid1_0674.avi\n",
      "75\n",
      "./Videos/Swing-Side/003/vid6_025.avi\n",
      "3\n",
      "./Videos/Swing-Side/006/vid8_0685.avi\n",
      "75\n",
      "./Videos/Swing-Side/004/vid6_214.avi\n",
      "75\n",
      "./Videos/Swing-Side/001/vid1_0117.avi\n",
      "35\n",
      "./Videos/Swing-Side/007/4367-6_70167.avi\n",
      "75\n",
      "./Videos/Swing-Side/008/vid1_0302.avi\n",
      "14\n",
      "./Videos/Swing-Side/002/vid1_0461.avi\n",
      "75\n",
      "./Videos/Kicking/014/5863-29_70025.avi\n",
      "23\n",
      "./Videos/Kicking/009/6731-2_70017.avi\n",
      "22\n",
      "./Videos/Kicking/005/3949-12_70207.avi\n",
      "23\n",
      "./Videos/Kicking/011/3833-40_70336.avi\n",
      "23\n",
      "./Videos/Kicking/010/3833-15_70577.avi\n",
      "23\n",
      "./Videos/Kicking/003/3833-27_70006.avi\n",
      "23\n",
      "./Videos/Kicking/012/3833-41_70187.avi\n",
      "23\n",
      "./Videos/Kicking/006/5117-8_70113.avi\n",
      "23\n",
      "./Videos/Kicking/013/5117-8_70350.avi\n",
      "23\n",
      "./Videos/Kicking/004/3937-9_70105.avi\n",
      "23\n",
      "./Videos/Kicking/016/6351-1_70011.avi\n",
      "23\n",
      "./Videos/Kicking/001/778-62_l146.avi\n",
      "23\n",
      "./Videos/Kicking/007/6063-21_70056.avi\n",
      "23\n",
      "./Videos/Kicking/002/1084-44_l865.avi\n",
      "23\n",
      "./Videos/Kicking/017/RF1-16941_70021.avi\n",
      "23\n",
      "./Videos/Kicking/015/6063-20_70333.avi\n",
      "23\n",
      "./Videos/Running/009/3687-17_70245.avi\n",
      "65\n",
      "./Videos/Running/005/5238-17_701581.avi\n",
      "65\n",
      "./Videos/Running/010/5373-10_70026.avi\n",
      "65\n",
      "./Videos/Running/006/5238-17_701141.avi\n",
      "65\n",
      "./Videos/Running/004/5238-17_700950.avi\n",
      "65\n",
      "./Videos/Running/001/2670-5_70111.avi\n",
      "65\n",
      "./Videos/Running/007/6065-8_70110.avi\n",
      "65\n",
      "./Videos/Running/008/7850-5_70090.avi\n",
      "65\n",
      "./Videos/Running/002/5238-17_700000.avi\n",
      "65\n",
      "./Videos/Golf-Swing/014/7606-2_700810.avi\n",
      "60\n",
      "./Videos/Golf-Swing/009/RF1-13588_70046.avi\n",
      "60\n",
      "./Videos/Golf-Swing/005/7603-4_70159.avi\n",
      "60\n",
      "./Videos/Golf-Swing/011/RF1-13207_7015.avi\n",
      "60\n",
      "./Videos/Golf-Swing/010/RF1-13678_70045.avi\n",
      "60\n",
      "./Videos/Golf-Swing/003/7608-12_70275.avi\n",
      "60\n",
      "./Videos/Golf-Swing/012/7608-5_70308.avi\n",
      "60\n",
      "./Videos/Golf-Swing/006/7608-9_70(2)151.avi\n",
      "60\n",
      "./Videos/Golf-Swing/013/7608-5_70039.avi\n",
      "17\n",
      "./Videos/Golf-Swing/004/RF1-13903_70070.avi\n",
      "60\n",
      "./Videos/Golf-Swing/001/3283-8_700741.avi\n",
      "60\n",
      "./Videos/Golf-Swing/007/RF1-13157_70040.avi\n",
      "60\n",
      "./Videos/Golf-Swing/008/RF1-13428_70288.avi\n",
      "60\n",
      "./Videos/Golf-Swing/002/3283-8_701201.avi\n",
      "60\n",
      "./Videos/Riding-Horse/009/1098-6_70000.avi\n",
      "58\n",
      "./Videos/Riding-Horse/005/4456-16_700516.avi\n",
      "60\n",
      "./Videos/Riding-Horse/010/7467-18_70103.avi\n",
      "36\n",
      "./Videos/Riding-Horse/003/4456-16_700273.avi\n",
      "60\n",
      "./Videos/Riding-Horse/006/6018-29_70000.avi\n",
      "39\n",
      "./Videos/Riding-Horse/004/4456-16_700406.avi\n",
      "60\n",
      "./Videos/Riding-Horse/001/4456-16_700040.avi\n",
      "60\n",
      "./Videos/Riding-Horse/007/6029-1_70001.avi\n",
      "57\n",
      "./Videos/Riding-Horse/008/RF1-12001_70063.avi\n",
      "60\n",
      "./Videos/Riding-Horse/002/4456-16_700165.avi\n",
      "60\n",
      "./Videos/Walking/014/RF1-18598_70075.avi\n",
      "101\n",
      "./Videos/Walking/009/RF1-18156_70301.avi\n",
      "37\n",
      "./Videos/Walking/005/RF1-15295_70060.avi\n",
      "101\n",
      "./Videos/Walking/011/RF1-18526_70364.avi\n",
      "101\n",
      "./Videos/Walking/010/RF1-18524_70031.avi\n",
      "101\n",
      "./Videos/Walking/018/RF1-13205_70100.avi\n",
      "109\n",
      "./Videos/Walking/003/RF1-10578_70285.avi\n",
      "101\n",
      "./Videos/Walking/012/RF1-18566_700411.avi\n",
      "60\n",
      "./Videos/Walking/006/RF1-15341_70050.avi\n",
      "102\n",
      "./Videos/Walking/013/RF1-18566_700560.avi\n",
      "101\n",
      "./Videos/Walking/004/RF1-10799_70080.avi\n",
      "101\n",
      "./Videos/Walking/016/RF1-18602_70140.avi\n",
      "144\n",
      "./Videos/Walking/001/3206-12_70000.avi\n",
      "101\n",
      "./Videos/Walking/019/7608-3_70626.avi\n",
      "101\n",
      "./Videos/Walking/007/RF1-18075_70140.avi\n",
      "103\n",
      "./Videos/Walking/008/RF1-18085_70010.avi\n",
      "95\n",
      "./Videos/Walking/002/5561-7_70102.avi\n",
      "101\n",
      "./Videos/Walking/017/RF1-13204_70095.avi\n",
      "71\n",
      "./Videos/Walking/015/RF1-18598_70530.avi\n",
      "101\n"
     ]
    }
   ],
   "source": [
    "for i in range(len(classes)):\n",
    "    cls = classes[i]\n",
    "    for j in range(len(videos[i])):\n",
    "        vid = videos[i][j]\n",
    "        video_r = VIDEOS_DIR+cls+'/'+ vid +'/'\n",
    "        image_r = IMAGES_DIR+cls+'/'+ vid +'/'\n",
    "        filelist= list(os.listdir(video_r))\n",
    "        for fichier in filelist:\n",
    "            if not(fichier.endswith(\".avi\")):\n",
    "                filelist.remove(fichier)\n",
    "        assert(len(filelist) == 1)\n",
    "        convert_videos_to_images(video_r+filelist[0], image_r)"
   ]
  },
  {
   "cell_type": "code",
   "execution_count": 8,
   "metadata": {},
   "outputs": [
    {
     "name": "stdout",
     "output_type": "stream",
     "text": [
      "./Images/Swing-Side/005/\n",
      "./Images/Swing-Side/003/\n"
     ]
    }
   ],
   "source": [
    "for i in range(len(classes)):\n",
    "    cls = classes[i]\n",
    "    for j in range(len(videos[i])):\n",
    "        vid = videos[i][j]\n",
    "        video_r = VIDEOS_DIR+cls+'/'+ vid +'/'\n",
    "        image_r = IMAGES_DIR+cls+'/'+ vid +'/'\n",
    "        filelist = list(os.listdir(image_r))\n",
    "        if len(filelist) <= 10:\n",
    "            print(image_r)"
   ]
  },
  {
   "cell_type": "code",
   "execution_count": 9,
   "metadata": {
    "collapsed": true
   },
   "outputs": [],
   "source": [
    "def build_dataset(image_size):\n",
    "    X_train_images = []\n",
    "    Y_train_images = []\n",
    "    for i in range(len(classes)):\n",
    "        cls = classes[i]\n",
    "        for j in range(len(videos[i])):\n",
    "            vid = videos[i][j]\n",
    "            video_r = VIDEOS_DIR+cls+'/'+ vid +'/'\n",
    "            image_r = IMAGES_DIR+cls+'/'+ vid +'/'\n",
    "            filelist = list(os.listdir(image_r))\n",
    "            #print(sorted(filelist))\n",
    "            for fichier in filelist:\n",
    "                if fichier.endswith(\".png\"):\n",
    "                    image = cv2.cvtColor(cv2.imread(image_r+fichier), cv2.COLOR_BGR2RGB)\n",
    "                    image = cv2.resize(image, image_size)\n",
    "                    X_train_images.append(image)\n",
    "                    Y_train_images.append(i)\n",
    "    return X_train_images, Y_train_images"
   ]
  },
  {
   "cell_type": "code",
   "execution_count": 22,
   "metadata": {
    "collapsed": true
   },
   "outputs": [],
   "source": [
    "X_train, Y_train = build_dataset((172, 172))"
   ]
  },
  {
   "cell_type": "code",
   "execution_count": 23,
   "metadata": {},
   "outputs": [
    {
     "data": {
      "text/plain": [
       "6858"
      ]
     },
     "execution_count": 23,
     "metadata": {},
     "output_type": "execute_result"
    }
   ],
   "source": [
    "len(Y_train)"
   ]
  },
  {
   "cell_type": "code",
   "execution_count": 24,
   "metadata": {},
   "outputs": [
    {
     "data": {
      "text/plain": [
       "6858"
      ]
     },
     "execution_count": 24,
     "metadata": {},
     "output_type": "execute_result"
    }
   ],
   "source": [
    "len(X_train)"
   ]
  },
  {
   "cell_type": "code",
   "execution_count": 25,
   "metadata": {
    "collapsed": true
   },
   "outputs": [],
   "source": [
    "X_train = np.array(X_train)"
   ]
  },
  {
   "cell_type": "code",
   "execution_count": 26,
   "metadata": {
    "collapsed": true
   },
   "outputs": [],
   "source": [
    "Y_train = np.array(Y_train)"
   ]
  },
  {
   "cell_type": "code",
   "execution_count": 27,
   "metadata": {},
   "outputs": [
    {
     "data": {
      "text/plain": [
       "(6858, 172, 172, 3)"
      ]
     },
     "execution_count": 27,
     "metadata": {},
     "output_type": "execute_result"
    }
   ],
   "source": [
    "X_train.shape"
   ]
  },
  {
   "cell_type": "code",
   "execution_count": 28,
   "metadata": {},
   "outputs": [
    {
     "data": {
      "text/plain": [
       "(6858,)"
      ]
     },
     "execution_count": 28,
     "metadata": {},
     "output_type": "execute_result"
    }
   ],
   "source": [
    "Y_train.shape"
   ]
  },
  {
   "cell_type": "code",
   "execution_count": 109,
   "metadata": {},
   "outputs": [],
   "source": [
    "def convert_to_one_hot(Y, C):\n",
    "    Y = np.eye(C)[Y.reshape(-1)]\n",
    "    return Y"
   ]
  },
  {
   "cell_type": "code",
   "execution_count": 29,
   "metadata": {},
   "outputs": [
    {
     "data": {
      "text/plain": [
       "<matplotlib.image.AxesImage at 0x7f90bb40efd0>"
      ]
     },
     "execution_count": 29,
     "metadata": {},
     "output_type": "execute_result"
    },
    {
     "data": {
      "image/png": "[encoded data removed]",
      "text/plain": [
       "<Figure size 432x288 with 1 Axes>"
      ]
     },
     "metadata": {},
     "output_type": "display_data"
    }
   ],
   "source": [
    "plt.imshow(X_train[98])"
   ]
  },
  {
   "cell_type": "code",
   "execution_count": 35,
   "metadata": {},
   "outputs": [
    {
     "data": {
      "text/plain": [
       "dtype('uint8')"
      ]
     },
     "execution_count": 35,
     "metadata": {},
     "output_type": "execute_result"
    }
   ],
   "source": [
    "X_train.dtype"
   ]
  },
  {
   "cell_type": "code",
   "execution_count": 93,
   "metadata": {
    "collapsed": true
   },
   "outputs": [],
   "source": [
    "def build_model(input_shape):\n",
    "    X_input = Input(input_shape, name = \"Input\")\n",
    "    X = BatchNormalization(name = 'BatchNorm_1')(X_input)\n",
    "    X = Conv2D(16, (5, 5), strides = (2, 2), name=\"Conv_1a\", padding=\"same\")(X)\n",
    "    X = Conv2D(32, (3, 3), name = \"Conv_1b\", padding=\"same\")(X)\n",
    "    X = MaxPool2D((2, 2), name = \"Pool_1\")(X)\n",
    "    X = Conv2D(32, (3, 3), name =\"Conv_2\", padding = \"same\")(X)\n",
    "    X = MaxPool2D((2, 2), name = \"Pool_2\")(X)\n",
    "    X = Conv2D(32, (3, 3), name = \"Conv_3\", padding = \"same\")(X)\n",
    "    X = MaxPool2D((2, 2), name = \"Pool_3\")(X)\n",
    "    X = Conv2D(32, (3, 3), name = \"Conv_4\", padding = \"same\")(X)\n",
    "    X = MaxPool2D((2, 2), name = \"Pool_4\")(X)\n",
    "    X = Conv2D(8, (1, 1), name=\"Conv1X1\")(X)\n",
    "    X = Flatten()(X)\n",
    "    return Model(X_input, X)"
   ]
  },
  {
   "cell_type": "code",
   "execution_count": 94,
   "metadata": {},
   "outputs": [],
   "source": [
    "model = build_model((172, 172, 3))"
   ]
  },
  {
   "cell_type": "code",
   "execution_count": 96,
   "metadata": {},
   "outputs": [
    {
     "name": "stdout",
     "output_type": "stream",
     "text": [
      "_________________________________________________________________\n",
      "Layer (type)                 Output Shape              Param #   \n",
      "=================================================================\n",
      "Input (InputLayer)           (None, 172, 172, 3)       0         \n",
      "_________________________________________________________________\n",
      "BatchNorm_1 (BatchNormalizat (None, 172, 172, 3)       12        \n",
      "_________________________________________________________________\n",
      "Conv_1a (Conv2D)             (None, 86, 86, 16)        1216      \n",
      "_________________________________________________________________\n",
      "Conv_1b (Conv2D)             (None, 86, 86, 32)        4640      \n",
      "_________________________________________________________________\n",
      "Pool_1 (MaxPooling2D)        (None, 43, 43, 32)        0         \n",
      "_________________________________________________________________\n",
      "Conv_2 (Conv2D)              (None, 43, 43, 32)        9248      \n",
      "_________________________________________________________________\n",
      "Pool_2 (MaxPooling2D)        (None, 21, 21, 32)        0         \n",
      "_________________________________________________________________\n",
      "Conv_3 (Conv2D)              (None, 21, 21, 32)        9248      \n",
      "_________________________________________________________________\n",
      "Pool_3 (MaxPooling2D)        (None, 10, 10, 32)        0         \n",
      "_________________________________________________________________\n",
      "Conv_4 (Conv2D)              (None, 10, 10, 32)        9248      \n",
      "_________________________________________________________________\n",
      "Pool_4 (MaxPooling2D)        (None, 5, 5, 32)          0         \n",
      "_________________________________________________________________\n",
      "Conv1X1 (Conv2D)             (None, 5, 5, 8)           264       \n",
      "_________________________________________________________________\n",
      "flatten_5 (Flatten)          (None, 200)               0         \n",
      "=================================================================\n",
      "Total params: 33,876\n",
      "Trainable params: 33,870\n",
      "Non-trainable params: 6\n",
      "_________________________________________________________________\n"
     ]
    }
   ],
   "source": [
    "model.summary()"
   ]
  },
  {
   "cell_type": "code",
   "execution_count": 107,
   "metadata": {
    "collapsed": true
   },
   "outputs": [],
   "source": [
    "def CNN_model(prev_model):\n",
    "    X = Dense(9)(prev_model.output)\n",
    "    return Model(prev_model.input, X)"
   ]
  },
  {
   "cell_type": "code",
   "execution_count": 108,
   "metadata": {},
   "outputs": [
    {
     "name": "stdout",
     "output_type": "stream",
     "text": [
      "_________________________________________________________________\n",
      "Layer (type)                 Output Shape              Param #   \n",
      "=================================================================\n",
      "Input (InputLayer)           (None, 172, 172, 3)       0         \n",
      "_________________________________________________________________\n",
      "BatchNorm_1 (BatchNormalizat (None, 172, 172, 3)       12        \n",
      "_________________________________________________________________\n",
      "Conv_1a (Conv2D)             (None, 86, 86, 16)        1216      \n",
      "_________________________________________________________________\n",
      "Conv_1b (Conv2D)             (None, 86, 86, 32)        4640      \n",
      "_________________________________________________________________\n",
      "Pool_1 (MaxPooling2D)        (None, 43, 43, 32)        0         \n",
      "_________________________________________________________________\n",
      "Conv_2 (Conv2D)              (None, 43, 43, 32)        9248      \n",
      "_________________________________________________________________\n",
      "Pool_2 (MaxPooling2D)        (None, 21, 21, 32)        0         \n",
      "_________________________________________________________________\n",
      "Conv_3 (Conv2D)              (None, 21, 21, 32)        9248      \n",
      "_________________________________________________________________\n",
      "Pool_3 (MaxPooling2D)        (None, 10, 10, 32)        0         \n",
      "_________________________________________________________________\n",
      "Conv_4 (Conv2D)              (None, 10, 10, 32)        9248      \n",
      "_________________________________________________________________\n",
      "Pool_4 (MaxPooling2D)        (None, 5, 5, 32)          0         \n",
      "_________________________________________________________________\n",
      "Conv1X1 (Conv2D)             (None, 5, 5, 8)           264       \n",
      "_________________________________________________________________\n",
      "flatten_5 (Flatten)          (None, 200)               0         \n",
      "_________________________________________________________________\n",
      "dense_2 (Dense)              (None, 9)                 1809      \n",
      "=================================================================\n",
      "Total params: 35,685\n",
      "Trainable params: 35,679\n",
      "Non-trainable params: 6\n",
      "_________________________________________________________________\n"
     ]
    }
   ],
   "source": [
    "cnn = CNN_model(model)\n",
    "cnn.summary()"
   ]
  },
  {
   "cell_type": "code",
   "execution_count": 112,
   "metadata": {},
   "outputs": [],
   "source": [
    "cnn.compile(loss='categorical_crossentropy', metrics=['accuracy'], optimizer='adam')"
   ]
  },
  {
   "cell_type": "code",
   "execution_count": 110,
   "metadata": {},
   "outputs": [],
   "source": [
    "Y_train_one = convert_to_one_hot(Y_train, 9) "
   ]
  },
  {
   "cell_type": "code",
   "execution_count": 106,
   "metadata": {},
   "outputs": [
    {
     "data": {
      "text/plain": [
       "array([0, 0, 0, ..., 8, 8, 8])"
      ]
     },
     "execution_count": 106,
     "metadata": {},
     "output_type": "execute_result"
    }
   ],
   "source": [
    "Y_train"
   ]
  },
  {
   "cell_type": "code",
   "execution_count": 114,
   "metadata": {},
   "outputs": [
    {
     "name": "stdout",
     "output_type": "stream",
     "text": [
      "Epoch 1/1\n",
      "2304/6858 [=========>....................] - ETA: 190s - loss: 7.1999 - acc: 0.0638 - categorical_accuracy: 0.0638"
     ]
    },
    {
     "ename": "KeyboardInterrupt",
     "evalue": "",
     "output_type": "error",
     "traceback": [
      "\u001b[0;31m---------------------------------------------------------------------------\u001b[0m",
      "\u001b[0;31mKeyboardInterrupt\u001b[0m                         Traceback (most recent call last)",
      "\u001b[0;32m<ipython-input-114-78f920cee295>\u001b[0m in \u001b[0;36m<module>\u001b[0;34m()\u001b[0m\n\u001b[0;32m----> 1\u001b[0;31m \u001b[0mcnn\u001b[0m\u001b[0;34m.\u001b[0m\u001b[0mfit\u001b[0m\u001b[0;34m(\u001b[0m\u001b[0mX_train\u001b[0m\u001b[0;34m,\u001b[0m \u001b[0mY_train_one\u001b[0m\u001b[0;34m,\u001b[0m \u001b[0mbatch_size\u001b[0m\u001b[0;34m=\u001b[0m\u001b[0;36m32\u001b[0m\u001b[0;34m,\u001b[0m \u001b[0mepochs\u001b[0m\u001b[0;34m=\u001b[0m\u001b[0;36m1\u001b[0m\u001b[0;34m)\u001b[0m\u001b[0;34m\u001b[0m\u001b[0m\n\u001b[0m",
      "\u001b[0;32m~/.conda/envs/Keras2/lib/python3.6/site-packages/keras/engine/training.py\u001b[0m in \u001b[0;36mfit\u001b[0;34m(self, x, y, batch_size, epochs, verbose, callbacks, validation_split, validation_data, shuffle, class_weight, sample_weight, initial_epoch, **kwargs)\u001b[0m\n\u001b[1;32m   1428\u001b[0m                               \u001b[0mval_f\u001b[0m\u001b[0;34m=\u001b[0m\u001b[0mval_f\u001b[0m\u001b[0;34m,\u001b[0m \u001b[0mval_ins\u001b[0m\u001b[0;34m=\u001b[0m\u001b[0mval_ins\u001b[0m\u001b[0;34m,\u001b[0m \u001b[0mshuffle\u001b[0m\u001b[0;34m=\u001b[0m\u001b[0mshuffle\u001b[0m\u001b[0;34m,\u001b[0m\u001b[0;34m\u001b[0m\u001b[0m\n\u001b[1;32m   1429\u001b[0m                               \u001b[0mcallback_metrics\u001b[0m\u001b[0;34m=\u001b[0m\u001b[0mcallback_metrics\u001b[0m\u001b[0;34m,\u001b[0m\u001b[0;34m\u001b[0m\u001b[0m\n\u001b[0;32m-> 1430\u001b[0;31m                               initial_epoch=initial_epoch)\n\u001b[0m\u001b[1;32m   1431\u001b[0m \u001b[0;34m\u001b[0m\u001b[0m\n\u001b[1;32m   1432\u001b[0m     \u001b[0;32mdef\u001b[0m \u001b[0mevaluate\u001b[0m\u001b[0;34m(\u001b[0m\u001b[0mself\u001b[0m\u001b[0;34m,\u001b[0m \u001b[0mx\u001b[0m\u001b[0;34m,\u001b[0m \u001b[0my\u001b[0m\u001b[0;34m,\u001b[0m \u001b[0mbatch_size\u001b[0m\u001b[0;34m=\u001b[0m\u001b[0;36m32\u001b[0m\u001b[0;34m,\u001b[0m \u001b[0mverbose\u001b[0m\u001b[0;34m=\u001b[0m\u001b[0;36m1\u001b[0m\u001b[0;34m,\u001b[0m \u001b[0msample_weight\u001b[0m\u001b[0;34m=\u001b[0m\u001b[0;32mNone\u001b[0m\u001b[0;34m)\u001b[0m\u001b[0;34m:\u001b[0m\u001b[0;34m\u001b[0m\u001b[0m\n",
      "\u001b[0;32m~/.conda/envs/Keras2/lib/python3.6/site-packages/keras/engine/training.py\u001b[0m in \u001b[0;36m_fit_loop\u001b[0;34m(self, f, ins, out_labels, batch_size, epochs, verbose, callbacks, val_f, val_ins, shuffle, callback_metrics, initial_epoch)\u001b[0m\n\u001b[1;32m   1077\u001b[0m                 \u001b[0mbatch_logs\u001b[0m\u001b[0;34m[\u001b[0m\u001b[0;34m'size'\u001b[0m\u001b[0;34m]\u001b[0m \u001b[0;34m=\u001b[0m \u001b[0mlen\u001b[0m\u001b[0;34m(\u001b[0m\u001b[0mbatch_ids\u001b[0m\u001b[0;34m)\u001b[0m\u001b[0;34m\u001b[0m\u001b[0m\n\u001b[1;32m   1078\u001b[0m                 \u001b[0mcallbacks\u001b[0m\u001b[0;34m.\u001b[0m\u001b[0mon_batch_begin\u001b[0m\u001b[0;34m(\u001b[0m\u001b[0mbatch_index\u001b[0m\u001b[0;34m,\u001b[0m \u001b[0mbatch_logs\u001b[0m\u001b[0;34m)\u001b[0m\u001b[0;34m\u001b[0m\u001b[0m\n\u001b[0;32m-> 1079\u001b[0;31m                 \u001b[0mouts\u001b[0m \u001b[0;34m=\u001b[0m \u001b[0mf\u001b[0m\u001b[0;34m(\u001b[0m\u001b[0mins_batch\u001b[0m\u001b[0;34m)\u001b[0m\u001b[0;34m\u001b[0m\u001b[0m\n\u001b[0m\u001b[1;32m   1080\u001b[0m                 \u001b[0;32mif\u001b[0m \u001b[0;32mnot\u001b[0m \u001b[0misinstance\u001b[0m\u001b[0;34m(\u001b[0m\u001b[0mouts\u001b[0m\u001b[0;34m,\u001b[0m \u001b[0mlist\u001b[0m\u001b[0;34m)\u001b[0m\u001b[0;34m:\u001b[0m\u001b[0;34m\u001b[0m\u001b[0m\n\u001b[1;32m   1081\u001b[0m                     \u001b[0mouts\u001b[0m \u001b[0;34m=\u001b[0m \u001b[0;34m[\u001b[0m\u001b[0mouts\u001b[0m\u001b[0;34m]\u001b[0m\u001b[0;34m\u001b[0m\u001b[0m\n",
      "\u001b[0;32m~/.conda/envs/Keras2/lib/python3.6/site-packages/keras/backend/tensorflow_backend.py\u001b[0m in \u001b[0;36m__call__\u001b[0;34m(self, inputs)\u001b[0m\n\u001b[1;32m   2266\u001b[0m         updated = session.run(self.outputs + [self.updates_op],\n\u001b[1;32m   2267\u001b[0m                               \u001b[0mfeed_dict\u001b[0m\u001b[0;34m=\u001b[0m\u001b[0mfeed_dict\u001b[0m\u001b[0;34m,\u001b[0m\u001b[0;34m\u001b[0m\u001b[0m\n\u001b[0;32m-> 2268\u001b[0;31m                               **self.session_kwargs)\n\u001b[0m\u001b[1;32m   2269\u001b[0m         \u001b[0;32mreturn\u001b[0m \u001b[0mupdated\u001b[0m\u001b[0;34m[\u001b[0m\u001b[0;34m:\u001b[0m\u001b[0mlen\u001b[0m\u001b[0;34m(\u001b[0m\u001b[0mself\u001b[0m\u001b[0;34m.\u001b[0m\u001b[0moutputs\u001b[0m\u001b[0;34m)\u001b[0m\u001b[0;34m]\u001b[0m\u001b[0;34m\u001b[0m\u001b[0m\n\u001b[1;32m   2270\u001b[0m \u001b[0;34m\u001b[0m\u001b[0m\n",
      "\u001b[0;32m~/.conda/envs/Keras2/lib/python3.6/site-packages/tensorflow/python/client/session.py\u001b[0m in \u001b[0;36mrun\u001b[0;34m(self, fetches, feed_dict, options, run_metadata)\u001b[0m\n\u001b[1;32m    776\u001b[0m     \u001b[0;32mtry\u001b[0m\u001b[0;34m:\u001b[0m\u001b[0;34m\u001b[0m\u001b[0m\n\u001b[1;32m    777\u001b[0m       result = self._run(None, fetches, feed_dict, options_ptr,\n\u001b[0;32m--> 778\u001b[0;31m                          run_metadata_ptr)\n\u001b[0m\u001b[1;32m    779\u001b[0m       \u001b[0;32mif\u001b[0m \u001b[0mrun_metadata\u001b[0m\u001b[0;34m:\u001b[0m\u001b[0;34m\u001b[0m\u001b[0m\n\u001b[1;32m    780\u001b[0m         \u001b[0mproto_data\u001b[0m \u001b[0;34m=\u001b[0m \u001b[0mtf_session\u001b[0m\u001b[0;34m.\u001b[0m\u001b[0mTF_GetBuffer\u001b[0m\u001b[0;34m(\u001b[0m\u001b[0mrun_metadata_ptr\u001b[0m\u001b[0;34m)\u001b[0m\u001b[0;34m\u001b[0m\u001b[0m\n",
      "\u001b[0;32m~/.conda/envs/Keras2/lib/python3.6/site-packages/tensorflow/python/client/session.py\u001b[0m in \u001b[0;36m_run\u001b[0;34m(self, handle, fetches, feed_dict, options, run_metadata)\u001b[0m\n\u001b[1;32m    980\u001b[0m     \u001b[0;32mif\u001b[0m \u001b[0mfinal_fetches\u001b[0m \u001b[0;32mor\u001b[0m \u001b[0mfinal_targets\u001b[0m\u001b[0;34m:\u001b[0m\u001b[0;34m\u001b[0m\u001b[0m\n\u001b[1;32m    981\u001b[0m       results = self._do_run(handle, final_targets, final_fetches,\n\u001b[0;32m--> 982\u001b[0;31m                              feed_dict_string, options, run_metadata)\n\u001b[0m\u001b[1;32m    983\u001b[0m     \u001b[0;32melse\u001b[0m\u001b[0;34m:\u001b[0m\u001b[0;34m\u001b[0m\u001b[0m\n\u001b[1;32m    984\u001b[0m       \u001b[0mresults\u001b[0m \u001b[0;34m=\u001b[0m \u001b[0;34m[\u001b[0m\u001b[0;34m]\u001b[0m\u001b[0;34m\u001b[0m\u001b[0m\n",
      "\u001b[0;32m~/.conda/envs/Keras2/lib/python3.6/site-packages/tensorflow/python/client/session.py\u001b[0m in \u001b[0;36m_do_run\u001b[0;34m(self, handle, target_list, fetch_list, feed_dict, options, run_metadata)\u001b[0m\n\u001b[1;32m   1030\u001b[0m     \u001b[0;32mif\u001b[0m \u001b[0mhandle\u001b[0m \u001b[0;32mis\u001b[0m \u001b[0;32mNone\u001b[0m\u001b[0;34m:\u001b[0m\u001b[0;34m\u001b[0m\u001b[0m\n\u001b[1;32m   1031\u001b[0m       return self._do_call(_run_fn, self._session, feed_dict, fetch_list,\n\u001b[0;32m-> 1032\u001b[0;31m                            target_list, options, run_metadata)\n\u001b[0m\u001b[1;32m   1033\u001b[0m     \u001b[0;32melse\u001b[0m\u001b[0;34m:\u001b[0m\u001b[0;34m\u001b[0m\u001b[0m\n\u001b[1;32m   1034\u001b[0m       return self._do_call(_prun_fn, self._session, handle, feed_dict,\n",
      "\u001b[0;32m~/.conda/envs/Keras2/lib/python3.6/site-packages/tensorflow/python/client/session.py\u001b[0m in \u001b[0;36m_do_call\u001b[0;34m(self, fn, *args)\u001b[0m\n\u001b[1;32m   1037\u001b[0m   \u001b[0;32mdef\u001b[0m \u001b[0m_do_call\u001b[0m\u001b[0;34m(\u001b[0m\u001b[0mself\u001b[0m\u001b[0;34m,\u001b[0m \u001b[0mfn\u001b[0m\u001b[0;34m,\u001b[0m \u001b[0;34m*\u001b[0m\u001b[0margs\u001b[0m\u001b[0;34m)\u001b[0m\u001b[0;34m:\u001b[0m\u001b[0;34m\u001b[0m\u001b[0m\n\u001b[1;32m   1038\u001b[0m     \u001b[0;32mtry\u001b[0m\u001b[0;34m:\u001b[0m\u001b[0;34m\u001b[0m\u001b[0m\n\u001b[0;32m-> 1039\u001b[0;31m       \u001b[0;32mreturn\u001b[0m \u001b[0mfn\u001b[0m\u001b[0;34m(\u001b[0m\u001b[0;34m*\u001b[0m\u001b[0margs\u001b[0m\u001b[0;34m)\u001b[0m\u001b[0;34m\u001b[0m\u001b[0m\n\u001b[0m\u001b[1;32m   1040\u001b[0m     \u001b[0;32mexcept\u001b[0m \u001b[0merrors\u001b[0m\u001b[0;34m.\u001b[0m\u001b[0mOpError\u001b[0m \u001b[0;32mas\u001b[0m \u001b[0me\u001b[0m\u001b[0;34m:\u001b[0m\u001b[0;34m\u001b[0m\u001b[0m\n\u001b[1;32m   1041\u001b[0m       \u001b[0mmessage\u001b[0m \u001b[0;34m=\u001b[0m \u001b[0mcompat\u001b[0m\u001b[0;34m.\u001b[0m\u001b[0mas_text\u001b[0m\u001b[0;34m(\u001b[0m\u001b[0me\u001b[0m\u001b[0;34m.\u001b[0m\u001b[0mmessage\u001b[0m\u001b[0;34m)\u001b[0m\u001b[0;34m\u001b[0m\u001b[0m\n",
      "\u001b[0;32m~/.conda/envs/Keras2/lib/python3.6/site-packages/tensorflow/python/client/session.py\u001b[0m in \u001b[0;36m_run_fn\u001b[0;34m(session, feed_dict, fetch_list, target_list, options, run_metadata)\u001b[0m\n\u001b[1;32m   1019\u001b[0m         return tf_session.TF_Run(session, options,\n\u001b[1;32m   1020\u001b[0m                                  \u001b[0mfeed_dict\u001b[0m\u001b[0;34m,\u001b[0m \u001b[0mfetch_list\u001b[0m\u001b[0;34m,\u001b[0m \u001b[0mtarget_list\u001b[0m\u001b[0;34m,\u001b[0m\u001b[0;34m\u001b[0m\u001b[0m\n\u001b[0;32m-> 1021\u001b[0;31m                                  status, run_metadata)\n\u001b[0m\u001b[1;32m   1022\u001b[0m \u001b[0;34m\u001b[0m\u001b[0m\n\u001b[1;32m   1023\u001b[0m     \u001b[0;32mdef\u001b[0m \u001b[0m_prun_fn\u001b[0m\u001b[0;34m(\u001b[0m\u001b[0msession\u001b[0m\u001b[0;34m,\u001b[0m \u001b[0mhandle\u001b[0m\u001b[0;34m,\u001b[0m \u001b[0mfeed_dict\u001b[0m\u001b[0;34m,\u001b[0m \u001b[0mfetch_list\u001b[0m\u001b[0;34m)\u001b[0m\u001b[0;34m:\u001b[0m\u001b[0;34m\u001b[0m\u001b[0m\n",
      "\u001b[0;31mKeyboardInterrupt\u001b[0m: "
     ]
    }
   ],
   "source": [
    "cnn.fit(X_train, Y_train_one, batch_size=32, epochs=1)"
   ]
  }
 ],
 "metadata": {
  "kernelspec": {
   "display_name": "Python [conda env:Keras2]",
   "language": "python",
   "name": "conda-env-Keras2-py"
  },
  "language_info": {
   "codemirror_mode": {
    "name": "ipython",
    "version": 3
   },
   "file_extension": ".py",
   "mimetype": "text/x-python",
   "name": "python",
   "nbconvert_exporter": "python",
   "pygments_lexer": "ipython3",
   "version": "3.6.4"
  }
 },
 "nbformat": 4,
 "nbformat_minor": 2
}
